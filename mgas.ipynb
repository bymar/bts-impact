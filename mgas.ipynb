{
  "nbformat": 4,
  "nbformat_minor": 0,
  "metadata": {
    "colab": {
      "provenance": [],
      "include_colab_link": true
    },
    "kernelspec": {
      "name": "python3",
      "display_name": "Python 3"
    },
    "language_info": {
      "name": "python"
    }
  },
  "cells": [
    {
      "cell_type": "markdown",
      "metadata": {
        "id": "view-in-github",
        "colab_type": "text"
      },
      "source": [
        "<a href=\"https://colab.research.google.com/github/bymar/bts-impact/blob/main/mgas.ipynb\" target=\"_parent\"><img src=\"https://colab.research.google.com/assets/colab-badge.svg\" alt=\"Open In Colab\"/></a>"
      ]
    },
    {
      "cell_type": "markdown",
      "source": [
        "# K-Pop Hits Through The Years - An analysis of BTS impact\n",
        "\n",
        "**Data Dictionary**\n",
        "\n",
        "| Variable | Definition                                 | Key                                            | Notes                                                                                                                                       |\n",
        "|----------|--------------------------------------------|------------------------------------------------|---------------------------------------------------------------------------------------------------------------------------------------------|\n",
        "| index | music id in the table |   |   |\n",
        "| title   |  Title of the song  |    |    |\n",
        "| artist/s  | The artist who sang or covered or made the instrumental of the song |   |   |\n",
        "| danceability    |  How suitable a track is for dancing based on a combination of musical elements including tempo, rhythm stability, beat  |   |    |\n",
        "| energy    | Perceptual measure of intensity and activity based on its dynamic range, perceived loudness, timbre, onset |  |  |\n",
        "| key  |  Key the track is in. Integers map to pitches using standard Pitch Class notation. |  |  |\n",
        "| loudness  | Overall loudness of a track in decibels. Loudness values are averaged across the entire track. Values |  |  |\n",
        "| mode  | Type of scale from which its melodic content is derived. Major is represented by 1 and minor is 0 |  |  |\n",
        "| speechiness |  Detects the presence of spoken words in a track. The more exclusively speech-like the recording, the closer to 1.0 the |  |  |\n",
        "| acousticness | Confidence measure of whether the track is acoustic. Values range from 0.0 to 1.0. 1.0 represents high |  |  |\n",
        "| valence | Musical positiveness conveyed by a track. Values measure from 0.0 to 1.0. Tracks with high valence sound more |  |  |\n",
        "| tempo | Overall estimated tempo of a track in beats per minute. |  |  |\n",
        "| duration_ms | Duration of the track in milliseconds. |  |  |\n",
        "| time_signature | Estimated overall time signature of a track. The time signature is a notational convention to specify how many beats |  |  |\n",
        "\n"
      ],
      "metadata": {
        "id": "29SVbQ7fADtc"
      }
    },
    {
      "cell_type": "markdown",
      "source": [
        "O dataset escolhido mostra dados das músicas que mais fizeram sucesso na Coreia do Sul nos anos de 1990, e de 2000 a 2021. Nestes 31 anos, o K-POP (genero musical originado no país conhecido por ser uma grande mescla de diversos outros generos como Hip-Hop, Rap, Jazz, R&B, ter uma grande influência da cultura negra e ser muito caracterizado também por seu diferencial nas produções visuais) passou por 3 diferentes gerações de grupos.\n",
        "\n",
        "Essa analise, irá focar na 2a geração, que teve um grande marco com a estreia e com o *boom * de impacto e sucesso do grupo BTS (Bangtan Sonyeondan,방탄소년단), que após seu segundo ano de lançamento, tiveram um crescimento gigantesco, tanto na Coreia do Sul, quanto no mundo. Os anos de maior destaque ao longo desse trabalho serão a partir de 2015, com uma breve comparação com 2013, para entender as diferenças de antes de seu grande sucesso, com atualmente,\n",
        "\n",
        "---\n",
        "obs.: Apesar de ser uma grande quantidade de tabelas, todas elas possuem a mesma quantidade e a mesmas colunas.\n",
        "\n"
      ],
      "metadata": {
        "id": "YF8fWiXACJrB"
      }
    },
    {
      "cell_type": "markdown",
      "source": [
        "\n",
        "\n",
        "\n",
        "\n",
        "\n",
        "\n",
        "```\n",
        "KPOP CENSUS:\n",
        "```\n",
        "\n",
        "###### https://www.reddit.com/r/kpop/wiki/census/\n",
        "\n",
        "```\n",
        "How BTS Became One of the Most Popular Bands in History:\n",
        "```\n",
        "###### https://www.newyorker.com/culture/culture-desk/joining-the-bts-army\n",
        "\n",
        "\n"
      ],
      "metadata": {
        "id": "an95uH_jwEy8"
      }
    },
    {
      "cell_type": "markdown",
      "source": [
        "# Utils"
      ],
      "metadata": {
        "id": "pwQ2Jx8tPtwU"
      }
    },
    {
      "cell_type": "code",
      "execution_count": null,
      "metadata": {
        "id": "Ep3QJj_E_rJz"
      },
      "outputs": [],
      "source": [
        "import numpy as np\n",
        "import pandas as pd\n",
        "\n",
        "from google.colab import drive"
      ]
    },
    {
      "cell_type": "code",
      "source": [
        "drive.mount('/content/gdrive')"
      ],
      "metadata": {
        "colab": {
          "base_uri": "https://localhost:8080/"
        },
        "id": "fRH4wkGEI4l1",
        "outputId": "7c94ee9d-b76b-40e5-cf2f-32510f9c783e"
      },
      "execution_count": null,
      "outputs": [
        {
          "output_type": "stream",
          "name": "stdout",
          "text": [
            "Mounted at /content/gdrive\n"
          ]
        }
      ]
    },
    {
      "cell_type": "code",
      "source": [
        "# this code is from the kaggle where the dataset is! ele coloca os nomes do csv em um dict\n",
        "# em seguida, faz um novo dict para que se poxa chamar a tabela como ano desejado\n",
        "header90 = \"KPopHits\"\n",
        "footer90 = \"s.csv\"\n",
        "header1 = \"KPopHits200\"\n",
        "header10 = \"KPopHits20\"\n",
        "footer = \".csv\"\n",
        "labels = {}    #dictionary for the labels of a dataset and their respective csv file\n",
        "\n",
        "for x in range(23):\n",
        "    if x == 0:\n",
        "        j = 90\n",
        "        labels[str(j)] = header90 + str(j) + footer90\n",
        "    elif x > 0 and x < 11:\n",
        "        if x == 1:\n",
        "            j = 0\n",
        "        labels[\"200\" + str(j)] =  header1 + str(j) + footer\n",
        "    else:\n",
        "        labels[\"20\" + str(j)] =  header10 + str(j) + footer\n",
        "\n",
        "    if x != 0:\n",
        "        j += 1\n",
        "\n",
        "print(labels)"
      ],
      "metadata": {
        "colab": {
          "base_uri": "https://localhost:8080/"
        },
        "id": "AjKtZ5smJb70",
        "outputId": "ccefe7ce-b634-4bf0-f10c-ff84dd428a1c"
      },
      "execution_count": null,
      "outputs": [
        {
          "output_type": "stream",
          "name": "stdout",
          "text": [
            "{'90': 'KPopHits90s.csv', '2000': 'KPopHits2000.csv', '2001': 'KPopHits2001.csv', '2002': 'KPopHits2002.csv', '2003': 'KPopHits2003.csv', '2004': 'KPopHits2004.csv', '2005': 'KPopHits2005.csv', '2006': 'KPopHits2006.csv', '2007': 'KPopHits2007.csv', '2008': 'KPopHits2008.csv', '2009': 'KPopHits2009.csv', '2010': 'KPopHits2010.csv', '2011': 'KPopHits2011.csv', '2012': 'KPopHits2012.csv', '2013': 'KPopHits2013.csv', '2014': 'KPopHits2014.csv', '2015': 'KPopHits2015.csv', '2016': 'KPopHits2016.csv', '2017': 'KPopHits2017.csv', '2018': 'KPopHits2018.csv', '2019': 'KPopHits2019.csv', '2020': 'KPopHits2020.csv', '2021': 'KPopHits2021.csv'}\n"
          ]
        }
      ]
    },
    {
      "cell_type": "code",
      "source": [
        "# dict com cada um dos csv!\n",
        "songs = {}\n",
        "\n",
        "key_list = list(labels.keys())\n",
        "val_list = list(labels.values())\n",
        "for x in range(23):\n",
        "    songs[key_list[x]] = pd.read_csv(\"/content/gdrive/MyDrive/Colab Notebooks/kpop/\"+val_list[x], encoding='utf-8')\n",
        "\n",
        "# songs['2000']"
      ],
      "metadata": {
        "id": "FCGbEqOBI5dn"
      },
      "execution_count": null,
      "outputs": []
    },
    {
      "cell_type": "code",
      "source": [
        "kpophits = 0\n",
        "for num in range(23):\n",
        "  if num == 0:\n",
        "    year = 90\n",
        "    nineties = songs[str(year)]\n",
        "    kpophits += len(nineties)\n",
        "  elif num > 0 and num < 11:\n",
        "    if num == 1:\n",
        "      year = 0\n",
        "    twothousand = songs['200'+str(year)]\n",
        "    kpophits += len(twothousand)\n",
        "  else:\n",
        "    twoten = songs['20'+str(year)]\n",
        "    kpophits += len(twoten)\n",
        "\n",
        "  if num != 0:\n",
        "        year += 1\n",
        "\n",
        "print(\"Quantidade total de músicas\",kpophits)\n"
      ],
      "metadata": {
        "colab": {
          "base_uri": "https://localhost:8080/"
        },
        "id": "9lZ-xMgEP-JC",
        "outputId": "dd5d1409-a448-48ec-daaa-84cce80dde86"
      },
      "execution_count": null,
      "outputs": [
        {
          "output_type": "stream",
          "name": "stdout",
          "text": [
            "Quantidade total de músicas 797\n"
          ]
        }
      ]
    },
    {
      "cell_type": "code",
      "source": [
        "songs['2015'].head()"
      ],
      "metadata": {
        "id": "Cu55jUGFWi0n",
        "colab": {
          "base_uri": "https://localhost:8080/",
          "height": 206
        },
        "outputId": "ff9e595b-f671-480d-e4af-abac2c7cbc93"
      },
      "execution_count": null,
      "outputs": [
        {
          "output_type": "execute_result",
          "data": {
            "text/plain": [
              "   Unnamed: 0           title              artist/s  danceability  energy  \\\n",
              "0           0            View                SHINee         0.728   0.801   \n",
              "1           1  BANG BANG BANG               BIGBANG         0.690   0.843   \n",
              "2           2   LOVE ME RIGHT                   EXO         0.625   0.830   \n",
              "3           3            Dope                   BTS         0.579   0.896   \n",
              "4           4               I  TAEYEON, Verbal Jint         0.506   0.788   \n",
              "\n",
              "   key  loudness  mode  speechiness  acousticness  valence    tempo  \\\n",
              "0    6    -4.428     0       0.0439       0.04000    0.656  123.953   \n",
              "1    1    -2.949     1       0.0534       0.01670    0.428  135.010   \n",
              "2    0    -2.330     1       0.0764       0.00266    0.757  110.040   \n",
              "3   10    -2.781     0       0.2240       0.02720    0.678  153.991   \n",
              "4    9    -2.372     1       0.0324       0.06660    0.233   89.993   \n",
              "\n",
              "   duration_ms  time_signature  \n",
              "0       190821               4  \n",
              "1       220178               4  \n",
              "2       205129               4  \n",
              "3       240021               4  \n",
              "4       206039               4  "
            ],
            "text/html": [
              "\n",
              "  <div id=\"df-2e46ab8c-2da5-4ddb-85b6-de11074bfbb9\">\n",
              "    <div class=\"colab-df-container\">\n",
              "      <div>\n",
              "<style scoped>\n",
              "    .dataframe tbody tr th:only-of-type {\n",
              "        vertical-align: middle;\n",
              "    }\n",
              "\n",
              "    .dataframe tbody tr th {\n",
              "        vertical-align: top;\n",
              "    }\n",
              "\n",
              "    .dataframe thead th {\n",
              "        text-align: right;\n",
              "    }\n",
              "</style>\n",
              "<table border=\"1\" class=\"dataframe\">\n",
              "  <thead>\n",
              "    <tr style=\"text-align: right;\">\n",
              "      <th></th>\n",
              "      <th>Unnamed: 0</th>\n",
              "      <th>title</th>\n",
              "      <th>artist/s</th>\n",
              "      <th>danceability</th>\n",
              "      <th>energy</th>\n",
              "      <th>key</th>\n",
              "      <th>loudness</th>\n",
              "      <th>mode</th>\n",
              "      <th>speechiness</th>\n",
              "      <th>acousticness</th>\n",
              "      <th>valence</th>\n",
              "      <th>tempo</th>\n",
              "      <th>duration_ms</th>\n",
              "      <th>time_signature</th>\n",
              "    </tr>\n",
              "  </thead>\n",
              "  <tbody>\n",
              "    <tr>\n",
              "      <th>0</th>\n",
              "      <td>0</td>\n",
              "      <td>View</td>\n",
              "      <td>SHINee</td>\n",
              "      <td>0.728</td>\n",
              "      <td>0.801</td>\n",
              "      <td>6</td>\n",
              "      <td>-4.428</td>\n",
              "      <td>0</td>\n",
              "      <td>0.0439</td>\n",
              "      <td>0.04000</td>\n",
              "      <td>0.656</td>\n",
              "      <td>123.953</td>\n",
              "      <td>190821</td>\n",
              "      <td>4</td>\n",
              "    </tr>\n",
              "    <tr>\n",
              "      <th>1</th>\n",
              "      <td>1</td>\n",
              "      <td>BANG BANG BANG</td>\n",
              "      <td>BIGBANG</td>\n",
              "      <td>0.690</td>\n",
              "      <td>0.843</td>\n",
              "      <td>1</td>\n",
              "      <td>-2.949</td>\n",
              "      <td>1</td>\n",
              "      <td>0.0534</td>\n",
              "      <td>0.01670</td>\n",
              "      <td>0.428</td>\n",
              "      <td>135.010</td>\n",
              "      <td>220178</td>\n",
              "      <td>4</td>\n",
              "    </tr>\n",
              "    <tr>\n",
              "      <th>2</th>\n",
              "      <td>2</td>\n",
              "      <td>LOVE ME RIGHT</td>\n",
              "      <td>EXO</td>\n",
              "      <td>0.625</td>\n",
              "      <td>0.830</td>\n",
              "      <td>0</td>\n",
              "      <td>-2.330</td>\n",
              "      <td>1</td>\n",
              "      <td>0.0764</td>\n",
              "      <td>0.00266</td>\n",
              "      <td>0.757</td>\n",
              "      <td>110.040</td>\n",
              "      <td>205129</td>\n",
              "      <td>4</td>\n",
              "    </tr>\n",
              "    <tr>\n",
              "      <th>3</th>\n",
              "      <td>3</td>\n",
              "      <td>Dope</td>\n",
              "      <td>BTS</td>\n",
              "      <td>0.579</td>\n",
              "      <td>0.896</td>\n",
              "      <td>10</td>\n",
              "      <td>-2.781</td>\n",
              "      <td>0</td>\n",
              "      <td>0.2240</td>\n",
              "      <td>0.02720</td>\n",
              "      <td>0.678</td>\n",
              "      <td>153.991</td>\n",
              "      <td>240021</td>\n",
              "      <td>4</td>\n",
              "    </tr>\n",
              "    <tr>\n",
              "      <th>4</th>\n",
              "      <td>4</td>\n",
              "      <td>I</td>\n",
              "      <td>TAEYEON, Verbal Jint</td>\n",
              "      <td>0.506</td>\n",
              "      <td>0.788</td>\n",
              "      <td>9</td>\n",
              "      <td>-2.372</td>\n",
              "      <td>1</td>\n",
              "      <td>0.0324</td>\n",
              "      <td>0.06660</td>\n",
              "      <td>0.233</td>\n",
              "      <td>89.993</td>\n",
              "      <td>206039</td>\n",
              "      <td>4</td>\n",
              "    </tr>\n",
              "  </tbody>\n",
              "</table>\n",
              "</div>\n",
              "      <button class=\"colab-df-convert\" onclick=\"convertToInteractive('df-2e46ab8c-2da5-4ddb-85b6-de11074bfbb9')\"\n",
              "              title=\"Convert this dataframe to an interactive table.\"\n",
              "              style=\"display:none;\">\n",
              "        \n",
              "  <svg xmlns=\"http://www.w3.org/2000/svg\" height=\"24px\"viewBox=\"0 0 24 24\"\n",
              "       width=\"24px\">\n",
              "    <path d=\"M0 0h24v24H0V0z\" fill=\"none\"/>\n",
              "    <path d=\"M18.56 5.44l.94 2.06.94-2.06 2.06-.94-2.06-.94-.94-2.06-.94 2.06-2.06.94zm-11 1L8.5 8.5l.94-2.06 2.06-.94-2.06-.94L8.5 2.5l-.94 2.06-2.06.94zm10 10l.94 2.06.94-2.06 2.06-.94-2.06-.94-.94-2.06-.94 2.06-2.06.94z\"/><path d=\"M17.41 7.96l-1.37-1.37c-.4-.4-.92-.59-1.43-.59-.52 0-1.04.2-1.43.59L10.3 9.45l-7.72 7.72c-.78.78-.78 2.05 0 2.83L4 21.41c.39.39.9.59 1.41.59.51 0 1.02-.2 1.41-.59l7.78-7.78 2.81-2.81c.8-.78.8-2.07 0-2.86zM5.41 20L4 18.59l7.72-7.72 1.47 1.35L5.41 20z\"/>\n",
              "  </svg>\n",
              "      </button>\n",
              "      \n",
              "  <style>\n",
              "    .colab-df-container {\n",
              "      display:flex;\n",
              "      flex-wrap:wrap;\n",
              "      gap: 12px;\n",
              "    }\n",
              "\n",
              "    .colab-df-convert {\n",
              "      background-color: #E8F0FE;\n",
              "      border: none;\n",
              "      border-radius: 50%;\n",
              "      cursor: pointer;\n",
              "      display: none;\n",
              "      fill: #1967D2;\n",
              "      height: 32px;\n",
              "      padding: 0 0 0 0;\n",
              "      width: 32px;\n",
              "    }\n",
              "\n",
              "    .colab-df-convert:hover {\n",
              "      background-color: #E2EBFA;\n",
              "      box-shadow: 0px 1px 2px rgba(60, 64, 67, 0.3), 0px 1px 3px 1px rgba(60, 64, 67, 0.15);\n",
              "      fill: #174EA6;\n",
              "    }\n",
              "\n",
              "    [theme=dark] .colab-df-convert {\n",
              "      background-color: #3B4455;\n",
              "      fill: #D2E3FC;\n",
              "    }\n",
              "\n",
              "    [theme=dark] .colab-df-convert:hover {\n",
              "      background-color: #434B5C;\n",
              "      box-shadow: 0px 1px 3px 1px rgba(0, 0, 0, 0.15);\n",
              "      filter: drop-shadow(0px 1px 2px rgba(0, 0, 0, 0.3));\n",
              "      fill: #FFFFFF;\n",
              "    }\n",
              "  </style>\n",
              "\n",
              "      <script>\n",
              "        const buttonEl =\n",
              "          document.querySelector('#df-2e46ab8c-2da5-4ddb-85b6-de11074bfbb9 button.colab-df-convert');\n",
              "        buttonEl.style.display =\n",
              "          google.colab.kernel.accessAllowed ? 'block' : 'none';\n",
              "\n",
              "        async function convertToInteractive(key) {\n",
              "          const element = document.querySelector('#df-2e46ab8c-2da5-4ddb-85b6-de11074bfbb9');\n",
              "          const dataTable =\n",
              "            await google.colab.kernel.invokeFunction('convertToInteractive',\n",
              "                                                     [key], {});\n",
              "          if (!dataTable) return;\n",
              "\n",
              "          const docLinkHtml = 'Like what you see? Visit the ' +\n",
              "            '<a target=\"_blank\" href=https://colab.research.google.com/notebooks/data_table.ipynb>data table notebook</a>'\n",
              "            + ' to learn more about interactive tables.';\n",
              "          element.innerHTML = '';\n",
              "          dataTable['output_type'] = 'display_data';\n",
              "          await google.colab.output.renderOutput(dataTable, element);\n",
              "          const docLink = document.createElement('div');\n",
              "          docLink.innerHTML = docLinkHtml;\n",
              "          element.appendChild(docLink);\n",
              "        }\n",
              "      </script>\n",
              "    </div>\n",
              "  </div>\n",
              "  "
            ]
          },
          "metadata": {},
          "execution_count": 7
        }
      ]
    },
    {
      "cell_type": "code",
      "source": [
        "songs['2015'].columns"
      ],
      "metadata": {
        "colab": {
          "base_uri": "https://localhost:8080/"
        },
        "id": "MTgTZAFQZ_Hk",
        "outputId": "e3713f9f-447a-405c-f9a6-2ae52568a1f1"
      },
      "execution_count": null,
      "outputs": [
        {
          "output_type": "execute_result",
          "data": {
            "text/plain": [
              "Index(['Unnamed: 0', 'title', 'artist/s', 'danceability', 'energy', 'key',\n",
              "       'loudness', 'mode', 'speechiness', 'acousticness', 'valence', 'tempo',\n",
              "       'duration_ms', 'time_signature'],\n",
              "      dtype='object')"
            ]
          },
          "metadata": {},
          "execution_count": 8
        }
      ]
    },
    {
      "cell_type": "code",
      "source": [
        "songs['2021'].shape"
      ],
      "metadata": {
        "colab": {
          "base_uri": "https://localhost:8080/"
        },
        "id": "h35WoVMzaCyt",
        "outputId": "f53005fb-621d-4987-de36-25d99e17468d"
      },
      "execution_count": null,
      "outputs": [
        {
          "output_type": "execute_result",
          "data": {
            "text/plain": [
              "(50, 14)"
            ]
          },
          "metadata": {},
          "execution_count": 9
        }
      ]
    },
    {
      "cell_type": "markdown",
      "source": [
        "# Probabilidade Simples"
      ],
      "metadata": {
        "id": "_wvfl0z-auL8"
      }
    },
    {
      "cell_type": "markdown",
      "source": [
        "Qual a probabilidade de ser uma música de BTS?"
      ],
      "metadata": {
        "id": "87IarPM_rj_C"
      }
    },
    {
      "cell_type": "code",
      "source": [
        "btsHits = 0\n",
        "for num in range(23):\n",
        "  if num == 0:\n",
        "    year = 90\n",
        "    nineties = songs[str(year)]\n",
        "    btsHits += len(nineties[nineties['artist/s'] == 'BTS'])\n",
        "  elif num > 0 and num < 11:\n",
        "    if num == 1:\n",
        "      year = 0\n",
        "    twothousand = songs['200'+str(year)]\n",
        "    btsHits += len(twothousand[twothousand['artist/s'] == 'BTS'])\n",
        "  else:\n",
        "    twoten = songs['20'+str(year)]\n",
        "    btsHits += len(twoten[twoten['artist/s'] == 'BTS'])\n",
        "\n",
        "  if num != 0:\n",
        "        year += 1\n",
        "\n",
        "bts = btsHits / kpophits\n",
        "\n",
        "print(\"A probabilidade de ser uma música de BTS é de \" + str(round(bts*100, 2)) + \"%\")\n"
      ],
      "metadata": {
        "colab": {
          "base_uri": "https://localhost:8080/"
        },
        "id": "DMtu5pTJrjjD",
        "outputId": "5c6b3be3-7a55-4f52-d46d-1dcf281eb508"
      },
      "execution_count": null,
      "outputs": [
        {
          "output_type": "stream",
          "name": "stdout",
          "text": [
            "A probabilidade de ser uma música de BTS é de 1.88%\n"
          ]
        }
      ]
    },
    {
      "cell_type": "markdown",
      "source": [
        "Qual a probabilidade de uma música de BTS estar nos hits entre sua estreia (2013) e antes 2015?"
      ],
      "metadata": {
        "id": "uUhrl6OwbG9I"
      }
    },
    {
      "cell_type": "code",
      "source": [
        "thirteen = songs['2013']\n",
        "fourteen = songs['2014']\n",
        "\n",
        "before = ((len(thirteen[thirteen['artist/s'] == 'BTS'])) +\n",
        "          len(fourteen[fourteen['artist/s'] == 'BTS'])) / (len(thirteen) + len(fourteen))\n",
        "\n",
        "print(\"Probabilidade de ser uma música do BTS era de \" + str(before*100) + \"%\")\n"
      ],
      "metadata": {
        "colab": {
          "base_uri": "https://localhost:8080/"
        },
        "id": "ZhfUC3avbTaF",
        "outputId": "9647fcee-7a03-4abb-8a62-585752bf6b26"
      },
      "execution_count": null,
      "outputs": [
        {
          "output_type": "stream",
          "name": "stdout",
          "text": [
            "Probabilidade de ser uma música do BTS era de 0.0%\n"
          ]
        }
      ]
    },
    {
      "cell_type": "markdown",
      "source": [
        "Nesse mesmo periodo, qual era a probabilidade uma música do grupo EXO estar entre os hits?\n",
        "\n",
        "\n",
        "O grupo EXO (divido em EXO-K, coreia, e EXO-M, china), que estreiou em 2012, pela empresa SM, uma das 3 maiores empresas de entretenimento asiaticas da época estava em grande alta. O grupo ainda era composto por seus 12 integrantes da formação original, antes de passar escandalos judiciais entre membros do grupo e empresa, e sair 2 do grupo.\n",
        "Atualmente, o grupo está com 9 integrantes."
      ],
      "metadata": {
        "id": "K3xRdAUqejji"
      }
    },
    {
      "cell_type": "code",
      "source": [
        "exo = ((len(thirteen[thirteen['artist/s'] == 'EXO'])) +\n",
        "          len(fourteen[fourteen['artist/s'] == 'EXO'])) / (len(thirteen) + len(fourteen))\n",
        "print(\"Probabilidade de ser uma música do EXO era de \",round(exo*100, 4),\"%\")"
      ],
      "metadata": {
        "colab": {
          "base_uri": "https://localhost:8080/"
        },
        "id": "9AzVasz1ei3m",
        "outputId": "ae22ea96-f386-4fb9-e0ae-83af06b0478f"
      },
      "execution_count": null,
      "outputs": [
        {
          "output_type": "stream",
          "name": "stdout",
          "text": [
            "Probabilidade de ser uma música do EXO era de  1.6949 %\n"
          ]
        }
      ]
    },
    {
      "cell_type": "markdown",
      "source": [
        "Qual a probabilidade de ser ARMY (fã de BTS) em 2015?"
      ],
      "metadata": {
        "id": "GH5aWz6tfkM2"
      }
    },
    {
      "cell_type": "code",
      "source": [
        "# referencia: K-POP CENSUS 2015\n",
        "# https://www.reddit.com/r/kpop/comments/3hdzno/reddit_kpop_census_2015/\n",
        "\n",
        "army = 726 / 3426\n",
        "print(\"A probabilidade de ser ARMY em 2015 era de\",round(army*100, 2),\"%\")"
      ],
      "metadata": {
        "colab": {
          "base_uri": "https://localhost:8080/"
        },
        "id": "M8BCYwK3fo9M",
        "outputId": "996b1ac1-9299-4fa9-c270-d92e37873c12"
      },
      "execution_count": null,
      "outputs": [
        {
          "output_type": "stream",
          "name": "stdout",
          "text": [
            "A probabilidade de ser ARMY em 2015 era de 21.19 %\n"
          ]
        }
      ]
    },
    {
      "cell_type": "markdown",
      "source": [
        "Qual a probabilidade de ser ARMY em 2022?"
      ],
      "metadata": {
        "id": "HTgQZ3NhvLYa"
      }
    },
    {
      "cell_type": "code",
      "source": [
        "# referencia: K-POP CENSUS 2022\n",
        "# https://www.reddit.com/r/kpop/comments/xq66vi/reddit_kpop_census_results_2022/\n",
        "\n",
        "armyNow = 1246 / 5096\n",
        "print(\"A probabilidade de ser ARMY hoje é de\",round(armyNow*100, 2),\"%\")"
      ],
      "metadata": {
        "colab": {
          "base_uri": "https://localhost:8080/"
        },
        "id": "GPsfNXXPvLt-",
        "outputId": "da8c1009-563c-4bf0-bb68-d91aced3d55d"
      },
      "execution_count": null,
      "outputs": [
        {
          "output_type": "stream",
          "name": "stdout",
          "text": [
            "A probabilidade de ser ARMY hoje é de 24.45 %\n"
          ]
        }
      ]
    },
    {
      "cell_type": "markdown",
      "source": [
        "Dados de 2014 e 2013 não foram encontrados. Mas um breve comparativo da quantidade de seguidores que BTS tinha em suas redes sociais em sua época de debut, com a quantidade que tem a agora, pode ver a grande diferença que se tem.\n",
        "\n",
        "https://www.quora.com/How-many-followers-did-BTS-have-on-Twitter-when-they-first-debuted-like-first-month-year"
      ],
      "metadata": {
        "id": "RD-QxmM_1ehT"
      }
    },
    {
      "cell_type": "markdown",
      "source": [
        "# Probabilidade da União"
      ],
      "metadata": {
        "id": "tvdOEZGLiTfr"
      }
    },
    {
      "cell_type": "markdown",
      "source": [
        "Em 2018, ano que BTS lançou uma serie de 3 albuns chamada Love Yourself (Love Yourself 承 Her, Love Yourself 轉 Tear, Love Yourself 結 Answer), dois deles ficaram com a segunda e terceira maiores vendas no mundo, passando de grandes artistas da industria do Pop como Ed Sheeran, Ariana Grande, etc.\n",
        "\n",
        "Com toda a atenção do mundo se voltando para os 7 membros do grupo, a trilogia Love Yourself foi uma grande história de como eles estavam lidando com toda a repercução. Os albuns trazem músicas sobre que mostram a jornada na construção do amor próprio e de sua propria identidade.\n",
        "\n",
        "Mais um pouco sobre as músicas, referências encontradas nelas:\n",
        "\n",
        "https://medium.com/revolutionaries/love-yourself-bts-and-the-psychology-of-self-love-4afb9658f1f6\n",
        "\n",
        "\n",
        "```\n",
        " Love Yourself 結 Answer\n",
        "```\n",
        "https://www.youtube.com/playlist?list=PL-eVSSxdwRmy7LU6pMt5qg0AKFzFIjvE4"
      ],
      "metadata": {
        "id": "u3mZ4WFkic14"
      }
    },
    {
      "cell_type": "markdown",
      "source": [
        "Levando isso em consideração, qual a probabilidade de no ano de 2018, as músicas de hit ser uma música de BTS ou música com indicação de valência alta?"
      ],
      "metadata": {
        "id": "RDRQAcd58ciB"
      }
    },
    {
      "cell_type": "code",
      "source": [
        "eighteen = songs['2018']\n",
        "\n",
        "positivity = len(eighteen[(eighteen['artist/s'] == 'BTS') | (eighteen['valence'] > eighteen['valence'].median())])\n",
        "positivityProb = positivity/len(eighteen)\n",
        "\n",
        "print(\"Probabilidade é de \"+ str(round((positivityProb*100), 2)) + \"%\")"
      ],
      "metadata": {
        "id": "pSCB8hUGmelO",
        "colab": {
          "base_uri": "https://localhost:8080/"
        },
        "outputId": "f7cfaa5b-b887-425d-ad55-968d52c36850"
      },
      "execution_count": null,
      "outputs": [
        {
          "output_type": "stream",
          "name": "stdout",
          "text": [
            "Probabilidade é de 51.95%\n"
          ]
        }
      ]
    },
    {
      "cell_type": "markdown",
      "source": [
        "# Probabilidade da Intersecção"
      ],
      "metadata": {
        "id": "4tw_LiG8nEBU"
      }
    },
    {
      "cell_type": "markdown",
      "source": [
        "BTS ficou muito conhecido por suas longas, originando um audio que ficou famoso na rede social TikTok:\n",
        "\n",
        "\n",
        "```\n",
        "\"Hey, can i show you this BTS song?\" \"How long is it?\"\n",
        "\"Is 4 min and..\"\n",
        "\"And?? There is more??? My boy u still going? Thats a compose sentece\"\n",
        "```\n",
        "https://www.youtube.com/watch?v=gWPigLBqpVs\n",
        "\n",
        "Assim, qual a probabilidade de ser uma música de BTS e ser uma música com mais de 4 minutos?\n"
      ],
      "metadata": {
        "id": "1fAy7CBUnH-R"
      }
    },
    {
      "cell_type": "code",
      "source": [
        "# util, definindo uma constante\n",
        "\n",
        "FOUR_MINUTES = 240000"
      ],
      "metadata": {
        "id": "GvsAzz3UU0Dk"
      },
      "execution_count": null,
      "outputs": []
    },
    {
      "cell_type": "code",
      "source": [
        "# Geral:\n",
        "\n",
        "btsLongSongs = 0\n",
        "for num in range(23):\n",
        "  if num == 0:\n",
        "    year = 90\n",
        "    btsLongSongs += len(nineties[(nineties['artist/s'] == 'BTS') & (nineties['duration_ms'] > FOUR_MINUTES)])\n",
        "  elif num > 0 and num < 11:\n",
        "    if num == 1:\n",
        "      year = 0\n",
        "    twothousand = songs['200'+str(year)]\n",
        "    btsLongSongs += len(twothousand[(twothousand['artist/s'] == 'BTS') & (twothousand['duration_ms'] > FOUR_MINUTES)])\n",
        "  else:\n",
        "    twoten = songs['20'+str(year)]\n",
        "    btsLongSongs += len(twoten[(twoten['artist/s'] == 'BTS') & (twoten['duration_ms'] > FOUR_MINUTES)])\n",
        "\n",
        "  if num != 0:\n",
        "        year += 1\n",
        "\n",
        "probBtsLongSong = btsLongSongs/kpophits\n",
        "print(\"Probabilidade é de \" + str(round((probBtsLongSong*100), 2)) + \"%\")\n"
      ],
      "metadata": {
        "colab": {
          "base_uri": "https://localhost:8080/"
        },
        "id": "mD0Bj546rjWE",
        "outputId": "d8ea1e95-6b3e-45f4-9c2a-52c773f7299f"
      },
      "execution_count": null,
      "outputs": [
        {
          "output_type": "stream",
          "name": "stdout",
          "text": [
            "Probabilidade é de 0.5%\n"
          ]
        }
      ]
    },
    {
      "cell_type": "code",
      "source": [
        "# Contando apenas após o debut, ou seja, apos ano seu ano de estreia (2013)\n",
        "\n",
        "btsLongSongsDebut = 0\n",
        "tableSum = 0\n",
        "for num in range(23):\n",
        "  if num > 13:\n",
        "    if num == 14:\n",
        "      year = 13\n",
        "    twoten = songs['20'+str(year)]\n",
        "    btsLongSongsDebut += len(twoten[(twoten['artist/s'] == 'BTS') & (twoten['duration_ms'] > FOUR_MINUTES)])\n",
        "    tableSum += len(twoten)\n",
        "\n",
        "  if num != 0:\n",
        "        year += 1\n",
        "\n",
        "probAfterDebut = btsLongSongsDebut/tableSum\n",
        "\n",
        "print(\"Probabilidade após a estreia de BTS é de \" + str(round((probAfterDebut*100), 2)) + \"%\")"
      ],
      "metadata": {
        "colab": {
          "base_uri": "https://localhost:8080/"
        },
        "id": "EnplYcOltY0p",
        "outputId": "fab1e001-1fe8-4b04-c2b1-6c1aa5a335fe"
      },
      "execution_count": null,
      "outputs": [
        {
          "output_type": "stream",
          "name": "stdout",
          "text": [
            "Probabilidade após a estreia de BTS é de 1.01%\n"
          ]
        }
      ]
    },
    {
      "cell_type": "code",
      "source": [
        "# 2015, ano de anscessão do grupo, e também de lançamento da serie de albuns\n",
        "# 화양연화 (The Most Beautiful Moment In Life), album que fala sobre os desafios\n",
        "# de crescer e amadurecer\n",
        "\n",
        "fifteen = songs['2015']\n",
        "\n",
        "btsDuration = len(fifteen[(fifteen['duration_ms'] > FOUR_MINUTES) & (fifteen['artist/s'] == 'BTS')])\n",
        "btsDuration = btsDuration/len(fifteen)\n",
        "\n",
        "print(\"Probabilidade em 2015 era de \"+ str(round((btsDuration*100), 2)) + \"%\")"
      ],
      "metadata": {
        "id": "l0bFfohlnOdJ",
        "colab": {
          "base_uri": "https://localhost:8080/"
        },
        "outputId": "798dc6c1-9916-47ab-863d-64e21efde5c0"
      },
      "execution_count": null,
      "outputs": [
        {
          "output_type": "stream",
          "name": "stdout",
          "text": [
            "Probabilidade em 2015 era de 3.33%\n"
          ]
        }
      ]
    },
    {
      "cell_type": "code",
      "source": [
        "# 2018, ano de lançamento dos albuns Love Yourself\n",
        "\n",
        "eighteen = songs['2018']\n",
        "\n",
        "btsDuration = len(eighteen[(eighteen['duration_ms'] > FOUR_MINUTES) & (eighteen['artist/s'] == 'BTS')])\n",
        "btsDuration = btsDuration/len(eighteen)\n",
        "\n",
        "print(\"Probabilidade em 2017 era de \"+ str(round((btsDuration*100), 2)) + \"%\")"
      ],
      "metadata": {
        "colab": {
          "base_uri": "https://localhost:8080/"
        },
        "id": "xZHkxF5WXbyk",
        "outputId": "62e50501-e809-4188-a0f6-1ffbee209413"
      },
      "execution_count": null,
      "outputs": [
        {
          "output_type": "stream",
          "name": "stdout",
          "text": [
            "Probabilidade em 2017 era de 2.6%\n"
          ]
        }
      ]
    },
    {
      "cell_type": "code",
      "source": [
        "# 2020, lançamento do BE, album de produção independente do grupo, produção\n",
        "# visual, de audio e marketing feita pelos membros durante a epoca de pandemia\n",
        "\n",
        "twenty = songs['2020']\n",
        "\n",
        "btsDuration = len(twenty[(twenty['duration_ms'] > FOUR_MINUTES) & (twenty['artist/s'] == 'BTS')])\n",
        "btsDurTwenty = btsDuration/len(twenty)\n",
        "\n",
        "print(\"Probabilidade em 2020 era de \"+ str(round((btsDurTwenty*100), 2)) + \"%\")"
      ],
      "metadata": {
        "colab": {
          "base_uri": "https://localhost:8080/"
        },
        "id": "gIgDJ5VRYcjZ",
        "outputId": "57c8f7db-be66-4b3a-add2-2692ba4eabac"
      },
      "execution_count": null,
      "outputs": [
        {
          "output_type": "stream",
          "name": "stdout",
          "text": [
            "Probabilidade em 2020 era de 2.0%\n"
          ]
        }
      ]
    },
    {
      "cell_type": "markdown",
      "source": [
        "Como dito acima, em 2020, ano marcado pela pandemia do COVID-19, BTS fez um dos seus maiores lançamentos com a música Dynamite, que bateu diversos recordes como sendo o vídeo mais visualizado nas primeiras 24h de lançamento e também ser o mais rápido a chegar a 100 Milhões de Views, e em seguida, a 1 Bilhão.\n",
        "\n",
        "Dynamite é marcada por uma melodia alegre, uma letra facil e que fica na cabeça, um *boost* de serotonina e felicidade instantanea, a leveza que todo mundo precisava naquele momento. A música viralizou de forma muito rápida, ficou por semanas em 1° posição na Billboard.\n",
        "\n",
        "https://en.wikipedia.org/wiki/Dynamite_(BTS_song)\n",
        "\n",
        "Com isso, levo a seguinte questão, qual a probabilidade de ser uma música de BTS e ser uma música de alta valência?"
      ],
      "metadata": {
        "id": "NZ34hxMPv9yP"
      }
    },
    {
      "cell_type": "code",
      "source": [
        "# UTILS\n",
        "highValenceBts = 0\n",
        "for num in range(23):\n",
        "  if num == 0:\n",
        "    year = 90\n",
        "    highValenceBts += len(nineties[(nineties['artist/s'] == 'BTS') & (nineties['valence'] >= nineties['valence'].median())])\n",
        "  elif num > 0 and num < 11:\n",
        "    if num == 1:\n",
        "      year = 0\n",
        "    twothousand = songs['200'+str(year)]\n",
        "    highValenceBts += len(twothousand[(twothousand['artist/s'] == 'BTS') & (twothousand['valence'] >= twothousand['valence'].median())])\n",
        "  else:\n",
        "    twoten = songs['20'+str(year)]\n",
        "    highValenceBts += len(twoten[(twoten['artist/s'] == 'BTS') & (twoten['valence'] >= twoten['valence'].median())])\n",
        "\n",
        "  if num != 0:\n",
        "        year += 1\n",
        "\n",
        "#print(highValenceBts)"
      ],
      "metadata": {
        "id": "KrRcpn30yZuF"
      },
      "execution_count": null,
      "outputs": []
    },
    {
      "cell_type": "code",
      "source": [
        "probHighValBts = highValenceBts/kpophits\n",
        "\n",
        "print(\"Probabilidade de ser uma música de BTS e que traga felicidade é de \" + str(round(probHighValBts*100, 2)) + \"%\")\n",
        "\n",
        "probBtsHappiness = highValenceBts/btsHits\n",
        "\n",
        "print(\"E assim, a probabilidade de uma música de BTS trazer felicidade é de \" + str(round(probBtsHappiness*100, 2)) + \"%\")"
      ],
      "metadata": {
        "colab": {
          "base_uri": "https://localhost:8080/"
        },
        "id": "7-5qTjGHyzY6",
        "outputId": "ff2ec6fc-6c60-47f7-9173-4a2535fd11d8"
      },
      "execution_count": null,
      "outputs": [
        {
          "output_type": "stream",
          "name": "stdout",
          "text": [
            "Probabilidade de ser uma música de BTS e que traga felicidade é de 1.13%\n",
            "E assim, a probabilidade de uma música de BTS trazer felicidade é de 60.0%\n"
          ]
        }
      ]
    },
    {
      "cell_type": "markdown",
      "source": [
        "# Probabilidade do Complemento"
      ],
      "metadata": {
        "id": "7F_-L9R9omZ1"
      }
    },
    {
      "cell_type": "markdown",
      "source": [
        "Em 2020, qual a probabilidade de ser uma música de BTS e não ter mais que 4 minutos?"
      ],
      "metadata": {
        "id": "Bs1T6fzOo5Pp"
      }
    },
    {
      "cell_type": "code",
      "source": [
        "btsTwenty = (len(twenty[twenty['artist/s'] == 'BTS']))/len(twenty)\n",
        "\n",
        "probBTSNotFour = btsTwenty - btsDurTwenty\n",
        "\n",
        "print(\"Probabilidade é de \" + str(round((probBTSNotFour*100), 2)) + \"%\" )"
      ],
      "metadata": {
        "id": "WwO8HGOapEiD",
        "colab": {
          "base_uri": "https://localhost:8080/"
        },
        "outputId": "32ec0d88-0cca-458f-ed82-705e7c04b0dc"
      },
      "execution_count": null,
      "outputs": [
        {
          "output_type": "stream",
          "name": "stdout",
          "text": [
            "Probabilidade é de 6.0%\n"
          ]
        }
      ]
    },
    {
      "cell_type": "markdown",
      "source": [
        "# Probabilidade da Diferença"
      ],
      "metadata": {
        "id": "TO242XgMsVHi"
      }
    },
    {
      "cell_type": "markdown",
      "source": [
        "Qual a probabilidade de ser uma música de BTS, mas não ser uma música de alta valência?"
      ],
      "metadata": {
        "id": "_PeCtUc3sZKj"
      }
    },
    {
      "cell_type": "code",
      "source": [
        "#UTILS\n",
        "lowValenceBts = 0\n",
        "for num in range(23):\n",
        "  if num == 0:\n",
        "    year = 90\n",
        "    lowValenceBts += len(nineties[(nineties['artist/s'] == 'BTS') & (nineties['valence'] < nineties['valence'].median())])\n",
        "  elif num > 0 and num < 11:\n",
        "    if num == 1:\n",
        "      year = 0\n",
        "    twothousand = songs['200'+str(year)]\n",
        "    lowValenceBts += len(twothousand[(twothousand['artist/s'] == 'BTS') & (twothousand['valence'] < twothousand['valence'].median())])\n",
        "  else:\n",
        "    twoten = songs['20'+str(year)]\n",
        "    lowValenceBts += len(twoten[(twoten['artist/s'] == 'BTS') & (twoten['valence'] < twoten['valence'].median())])\n",
        "\n",
        "  if num != 0:\n",
        "        year += 1\n",
        "\n",
        "#lowValenceBts"
      ],
      "metadata": {
        "id": "Y9hvX69gsozS"
      },
      "execution_count": null,
      "outputs": []
    },
    {
      "cell_type": "code",
      "source": [
        "lowValAndBts = btsHits - highValenceBts\n",
        "probLowValenceAndBts = lowValAndBts/kpophits\n",
        "\n",
        "print(\"Probabilidade de ser uma música de BTS e que ela NÃO traga felicidade é de \" + str(round(probLowValenceAndBts*100, 2)) + \"%\")\n",
        "\n",
        "probBtsSadness = lowValenceBts/btsHits\n",
        "\n",
        "print(\"E assim, a probilidade de ficar triste com uma música de BTS é de \" + str(round(probBtsSadness*100, 2)) + \"%\")"
      ],
      "metadata": {
        "colab": {
          "base_uri": "https://localhost:8080/"
        },
        "id": "YVon3UDVjaTv",
        "outputId": "75fc36b8-0fea-4ef2-cdee-24329284cf4b"
      },
      "execution_count": null,
      "outputs": [
        {
          "output_type": "stream",
          "name": "stdout",
          "text": [
            "Probabilidade de ser uma música de BTS e que ela NÃO traga felicidade é de 0.75%\n",
            "E assim, a probilidade de ficar triste com uma música de BTS é de 40.0%\n"
          ]
        }
      ]
    },
    {
      "cell_type": "markdown",
      "source": [
        "# Probabilidade Condicional"
      ],
      "metadata": {
        "id": "MkJvyK0-uWtO"
      }
    },
    {
      "cell_type": "markdown",
      "source": [
        "Qual a probabilidade de uma música trazer felicidade, sabendo que ela é de BTS?"
      ],
      "metadata": {
        "id": "71Ootwjcub_C"
      }
    },
    {
      "cell_type": "code",
      "source": [
        "probHappiness = probHighValBts/bts\n",
        "print(\"Probabilidade de uma música trazer felicidade, sabendo que ela é uma música de BTS é de \"+ str(round((probHappiness*100),2)) + \"%\")"
      ],
      "metadata": {
        "id": "z_TlJVBeumCl",
        "colab": {
          "base_uri": "https://localhost:8080/"
        },
        "outputId": "619fd77b-cdee-42d8-bbc3-67bf89750f61"
      },
      "execution_count": null,
      "outputs": [
        {
          "output_type": "stream",
          "name": "stdout",
          "text": [
            "Probabilidade de uma música trazer felicidade, sabendo que ela é uma música de BTS é de 60.0%\n"
          ]
        }
      ]
    },
    {
      "cell_type": "markdown",
      "source": [
        "Em 2020, no seu album BE, uma das músicas lançadas se chama Telepathy, escrita pelo Suga (Min Yoongi, rapper do grupo), ela fala apenas sobre a leveza de se sentir feliz e amar e ser amado.\n",
        "Sendo uma das músicas mais intimas e bonitas escritas pelo Yoongi, ela passa um sentimento muito bonito, acho que realmente compreendo que é sentir.\n",
        "```\n",
        "In the days that feel the same,\n",
        "I’m the happiest when I meet you\n",
        "In my everyday life that is different every day,\n",
        "the person that is you is the most special to me\n",
        "```\n",
        "https://fawzulhr.medium.com/bts-telepathy-tells-us-about-how-love-and-happiness-are-tied-28f7d0086dbe\n",
        "\n",
        "\n",
        "---\n",
        "\n"
      ],
      "metadata": {
        "id": "coMfKQ6RvEBZ"
      }
    },
    {
      "cell_type": "markdown",
      "source": [
        "Qual a probabilidade de uma música ter mais de 4 minutos, sabendo que ela é de BTS?"
      ],
      "metadata": {
        "id": "Nrb2pf4gwdNu"
      }
    },
    {
      "cell_type": "code",
      "source": [
        "probLongBeforeDebut = probBtsLongSong/bts\n",
        "print(\"Contando os anos antes do debut:\")\n",
        "print(\"A probabilidade da música ter mais de 4 minutos, sabendo que ela é BTS é de \" + str(round((probLongBeforeDebut*100),2)) + \"%\")\n",
        "\n",
        "print(\"\\n\")\n",
        "\n",
        "probLongAfterDebut = probAfterDebut/bts\n",
        "print(\"Sem contar os anos antes do debut:\")\n",
        "print(\"A probabilidade da música ter mais de 4 minutos, sabendo que ela é BTS é de \" + str(round((probLongAfterDebut*100),2)) + \"%\")"
      ],
      "metadata": {
        "colab": {
          "base_uri": "https://localhost:8080/"
        },
        "id": "4f8a_2cfzBHy",
        "outputId": "f59d939f-f81b-4eea-8811-d47cdfe9fac0"
      },
      "execution_count": null,
      "outputs": [
        {
          "output_type": "stream",
          "name": "stdout",
          "text": [
            "Contando os anos antes do debut:\n",
            "A probabilidade da música ter mais de 4 minutos, sabendo que ela é BTS é de 26.67%\n",
            "\n",
            "\n",
            "Sem contar os anos antes do debut:\n",
            "A probabilidade da música ter mais de 4 minutos, sabendo que ela é BTS é de 53.67%\n"
          ]
        }
      ]
    },
    {
      "cell_type": "markdown",
      "source": [
        "# Teorema de Bayes"
      ],
      "metadata": {
        "id": "iFMqNHpavGLl"
      }
    },
    {
      "cell_type": "markdown",
      "source": [
        "Qual a probabilidade de uma música ser do BTS, tal que seja uma música valência alta?"
      ],
      "metadata": {
        "id": "Mr7BrPkwvM73"
      }
    },
    {
      "cell_type": "code",
      "source": [
        "#UTILS\n",
        "\n",
        "# contando todos os anos\n",
        "valenceLevels = 0\n",
        "for num in range(23):\n",
        "  if num == 0:\n",
        "    year = 90\n",
        "    valenceLevels += len(nineties[nineties['valence'] >= nineties['valence'].median()])\n",
        "  elif num > 0 and num < 11:\n",
        "    if num == 1:\n",
        "      year = 0\n",
        "    twothousand = songs['200'+str(year)]\n",
        "    valenceLevels += len(twothousand[twothousand['valence'] >= twothousand['valence'].median()])\n",
        "  else:\n",
        "    twoten = songs['20'+str(year)]\n",
        "    valenceLevels += len(twoten[twoten['valence'] >= twoten['valence'].median()])\n",
        "\n",
        "  if num != 0:\n",
        "        year += 1\n",
        "\n",
        "probValence = valenceLevels/kpophits"
      ],
      "metadata": {
        "id": "JlqXBMp11Wla"
      },
      "execution_count": null,
      "outputs": []
    },
    {
      "cell_type": "code",
      "source": [
        "probBtsHappy = (probHappiness*bts)/probValence\n",
        "print(\"Probabilidade de ser uma música de BTS, já sendo uma música de valência alta é de \" + str(round((probBtsHappy*100),2)) + \"%\")"
      ],
      "metadata": {
        "id": "1nxm7O-xvZ_h",
        "colab": {
          "base_uri": "https://localhost:8080/"
        },
        "outputId": "3edd1d11-0351-4761-8ea6-9f1d715b1c98"
      },
      "execution_count": null,
      "outputs": [
        {
          "output_type": "stream",
          "name": "stdout",
          "text": [
            "Probabilidade de ser uma música de BTS, já sendo uma música de valência alta é de 2.23%\n"
          ]
        }
      ]
    },
    {
      "cell_type": "code",
      "source": [
        "# apenas anos apos os debut\n",
        "valenceLev = 0\n",
        "for num in range(23):\n",
        "  if num > 13:\n",
        "    if num == 14:\n",
        "      year = 13\n",
        "    twoten = songs['20'+str(year)]\n",
        "    valenceLev += len(twoten[twoten['valence'] >= twoten['valence'].median()])\n",
        "\n",
        "  if num != 0:\n",
        "        year += 1\n",
        "\n",
        "probValAfterDebut = valenceLev/tableSum"
      ],
      "metadata": {
        "id": "t0BviaZ84lZK"
      },
      "execution_count": null,
      "outputs": []
    },
    {
      "cell_type": "code",
      "source": [
        "probBtsHappyAfter = (probHappiness*bts)/probValAfterDebut\n",
        "print(\"Probabilidade de ser uma música de BTS, já sendo uma música de valência alta é de \" + str(round((probBtsHappyAfter*100),2)) + \"%\")"
      ],
      "metadata": {
        "colab": {
          "base_uri": "https://localhost:8080/"
        },
        "id": "hdspP3BH4uud",
        "outputId": "1b85f8f2-f663-4b97-9ab2-0ca0e04aec9d"
      },
      "execution_count": null,
      "outputs": [
        {
          "output_type": "stream",
          "name": "stdout",
          "text": [
            "Probabilidade de ser uma música de BTS, já sendo uma música de valência alta é de 2.25%\n"
          ]
        }
      ]
    },
    {
      "cell_type": "markdown",
      "source": [
        "# Variáveis Aleatórias"
      ],
      "metadata": {
        "id": "y8bXY4U9v74d"
      }
    },
    {
      "cell_type": "markdown",
      "source": [
        "As variáveis:\n",
        "\n",
        "```\n",
        "danceability == How suitable a track is for dancing based on a combination of musical elements.\n",
        "including tempo, rhythm stability, beat strength, and overall regularity\n",
        "```\n",
        "\n",
        "```\n",
        "energy == Perceptual measure of intensity and activity based on\n",
        "its dynamic range, perceived loudness, timbre, onset rate, and general entropy.\n",
        "```\n",
        "tem um *range* que vai de 0.0 a 1.0, para *danceability* a que estiver mais proxima de 1.0 seria a mais \"dançavel\" e para *energy*, a que se encontra mais próxima de 0.0 seria a menos dinamica e/ou agitada, com isso, uma nova variavel que seria a soma dessas duas, pode mostrar o quão animada música é, e teria um range de 0.0 a 2.0\n",
        "\n",
        "```\n",
        "cheerful == measure how intense and suitable for dancing the song is\n",
        "```\n",
        "\n"
      ],
      "metadata": {
        "id": "lfTekIR45ULL"
      }
    },
    {
      "cell_type": "code",
      "source": [
        "for num in range(23):\n",
        "  if num == 0:\n",
        "    year = 90\n",
        "    nineties['cheerful'] = (nineties['danceability'] + nineties['energy'])\n",
        "  elif num > 0 and num < 11:\n",
        "    if num == 1:\n",
        "      year = 0\n",
        "    twothousand = songs['200'+str(year)]\n",
        "    twothousand['cheerful'] = (twothousand['danceability'] + twothousand['energy'])\n",
        "  else:\n",
        "    twoten = songs['20'+str(year)]\n",
        "    twoten['cheerful'] = (twoten['danceability'] + twoten['energy'])\n",
        "\n",
        "  if num != 0:\n",
        "        year += 1"
      ],
      "metadata": {
        "id": "YOTmM1gQwBdF"
      },
      "execution_count": null,
      "outputs": []
    },
    {
      "cell_type": "code",
      "source": [
        "songs['2021'].head(10)"
      ],
      "metadata": {
        "id": "v7w0ofx9zmUP",
        "colab": {
          "base_uri": "https://localhost:8080/",
          "height": 363
        },
        "outputId": "f9154e01-c3e9-4f57-a93a-3b090c723b5e"
      },
      "execution_count": null,
      "outputs": [
        {
          "output_type": "execute_result",
          "data": {
            "text/plain": [
              "   Unnamed: 0                title    artist/s  danceability  energy  key  \\\n",
              "0           0               Butter         BTS         0.759   0.459    8   \n",
              "1           1            The Feels       TWICE         0.808   0.903    9   \n",
              "2           2               Savage       aespa         0.727   0.879    9   \n",
              "3           3  Permission to Dance         BTS         0.702   0.741    9   \n",
              "4           4       In the morning        ITZY         0.846   0.814    6   \n",
              "5           5         Alcohol-Free       TWICE         0.688   0.909    8   \n",
              "6           6                MONEY        LISA         0.826   0.553    1   \n",
              "7           7               ELEVEN         IVE         0.828   0.731    9   \n",
              "8           8             Queendom  Red Velvet         0.695   0.896    5   \n",
              "9           9            Celebrity          IU         0.730   0.784    9   \n",
              "\n",
              "   loudness  mode  speechiness  acousticness  valence    tempo  duration_ms  \\\n",
              "0    -5.187     1       0.0948       0.00323    0.695  109.997       164442   \n",
              "1    -2.179     1       0.0729       0.08990    0.922  120.044       198053   \n",
              "2    -1.167     1       0.1290       0.12400    0.671  146.959       238144   \n",
              "3    -5.330     1       0.0427       0.00544    0.646  124.925       187585   \n",
              "4    -4.685     0       0.1490       0.08230    0.722  140.055       172373   \n",
              "5    -1.992     1       0.0624       0.04740    0.702   97.097       210573   \n",
              "6   -10.121     0       0.2340       0.16300    0.400  140.037       168228   \n",
              "7    -3.033     1       0.1110       0.06170    0.587  119.978       178453   \n",
              "8    -1.240     1       0.0847       0.17900    0.508  119.959       181760   \n",
              "9    -2.620     1       0.0691       0.19100    0.673   99.995       195547   \n",
              "\n",
              "   time_signature  cheerful  \n",
              "0               4     1.218  \n",
              "1               4     1.711  \n",
              "2               4     1.606  \n",
              "3               4     1.443  \n",
              "4               4     1.660  \n",
              "5               4     1.597  \n",
              "6               4     1.379  \n",
              "7               4     1.559  \n",
              "8               4     1.591  \n",
              "9               4     1.514  "
            ],
            "text/html": [
              "\n",
              "  <div id=\"df-25c73122-7e07-49bb-bcb8-a92ba203266f\">\n",
              "    <div class=\"colab-df-container\">\n",
              "      <div>\n",
              "<style scoped>\n",
              "    .dataframe tbody tr th:only-of-type {\n",
              "        vertical-align: middle;\n",
              "    }\n",
              "\n",
              "    .dataframe tbody tr th {\n",
              "        vertical-align: top;\n",
              "    }\n",
              "\n",
              "    .dataframe thead th {\n",
              "        text-align: right;\n",
              "    }\n",
              "</style>\n",
              "<table border=\"1\" class=\"dataframe\">\n",
              "  <thead>\n",
              "    <tr style=\"text-align: right;\">\n",
              "      <th></th>\n",
              "      <th>Unnamed: 0</th>\n",
              "      <th>title</th>\n",
              "      <th>artist/s</th>\n",
              "      <th>danceability</th>\n",
              "      <th>energy</th>\n",
              "      <th>key</th>\n",
              "      <th>loudness</th>\n",
              "      <th>mode</th>\n",
              "      <th>speechiness</th>\n",
              "      <th>acousticness</th>\n",
              "      <th>valence</th>\n",
              "      <th>tempo</th>\n",
              "      <th>duration_ms</th>\n",
              "      <th>time_signature</th>\n",
              "      <th>cheerful</th>\n",
              "    </tr>\n",
              "  </thead>\n",
              "  <tbody>\n",
              "    <tr>\n",
              "      <th>0</th>\n",
              "      <td>0</td>\n",
              "      <td>Butter</td>\n",
              "      <td>BTS</td>\n",
              "      <td>0.759</td>\n",
              "      <td>0.459</td>\n",
              "      <td>8</td>\n",
              "      <td>-5.187</td>\n",
              "      <td>1</td>\n",
              "      <td>0.0948</td>\n",
              "      <td>0.00323</td>\n",
              "      <td>0.695</td>\n",
              "      <td>109.997</td>\n",
              "      <td>164442</td>\n",
              "      <td>4</td>\n",
              "      <td>1.218</td>\n",
              "    </tr>\n",
              "    <tr>\n",
              "      <th>1</th>\n",
              "      <td>1</td>\n",
              "      <td>The Feels</td>\n",
              "      <td>TWICE</td>\n",
              "      <td>0.808</td>\n",
              "      <td>0.903</td>\n",
              "      <td>9</td>\n",
              "      <td>-2.179</td>\n",
              "      <td>1</td>\n",
              "      <td>0.0729</td>\n",
              "      <td>0.08990</td>\n",
              "      <td>0.922</td>\n",
              "      <td>120.044</td>\n",
              "      <td>198053</td>\n",
              "      <td>4</td>\n",
              "      <td>1.711</td>\n",
              "    </tr>\n",
              "    <tr>\n",
              "      <th>2</th>\n",
              "      <td>2</td>\n",
              "      <td>Savage</td>\n",
              "      <td>aespa</td>\n",
              "      <td>0.727</td>\n",
              "      <td>0.879</td>\n",
              "      <td>9</td>\n",
              "      <td>-1.167</td>\n",
              "      <td>1</td>\n",
              "      <td>0.1290</td>\n",
              "      <td>0.12400</td>\n",
              "      <td>0.671</td>\n",
              "      <td>146.959</td>\n",
              "      <td>238144</td>\n",
              "      <td>4</td>\n",
              "      <td>1.606</td>\n",
              "    </tr>\n",
              "    <tr>\n",
              "      <th>3</th>\n",
              "      <td>3</td>\n",
              "      <td>Permission to Dance</td>\n",
              "      <td>BTS</td>\n",
              "      <td>0.702</td>\n",
              "      <td>0.741</td>\n",
              "      <td>9</td>\n",
              "      <td>-5.330</td>\n",
              "      <td>1</td>\n",
              "      <td>0.0427</td>\n",
              "      <td>0.00544</td>\n",
              "      <td>0.646</td>\n",
              "      <td>124.925</td>\n",
              "      <td>187585</td>\n",
              "      <td>4</td>\n",
              "      <td>1.443</td>\n",
              "    </tr>\n",
              "    <tr>\n",
              "      <th>4</th>\n",
              "      <td>4</td>\n",
              "      <td>In the morning</td>\n",
              "      <td>ITZY</td>\n",
              "      <td>0.846</td>\n",
              "      <td>0.814</td>\n",
              "      <td>6</td>\n",
              "      <td>-4.685</td>\n",
              "      <td>0</td>\n",
              "      <td>0.1490</td>\n",
              "      <td>0.08230</td>\n",
              "      <td>0.722</td>\n",
              "      <td>140.055</td>\n",
              "      <td>172373</td>\n",
              "      <td>4</td>\n",
              "      <td>1.660</td>\n",
              "    </tr>\n",
              "    <tr>\n",
              "      <th>5</th>\n",
              "      <td>5</td>\n",
              "      <td>Alcohol-Free</td>\n",
              "      <td>TWICE</td>\n",
              "      <td>0.688</td>\n",
              "      <td>0.909</td>\n",
              "      <td>8</td>\n",
              "      <td>-1.992</td>\n",
              "      <td>1</td>\n",
              "      <td>0.0624</td>\n",
              "      <td>0.04740</td>\n",
              "      <td>0.702</td>\n",
              "      <td>97.097</td>\n",
              "      <td>210573</td>\n",
              "      <td>4</td>\n",
              "      <td>1.597</td>\n",
              "    </tr>\n",
              "    <tr>\n",
              "      <th>6</th>\n",
              "      <td>6</td>\n",
              "      <td>MONEY</td>\n",
              "      <td>LISA</td>\n",
              "      <td>0.826</td>\n",
              "      <td>0.553</td>\n",
              "      <td>1</td>\n",
              "      <td>-10.121</td>\n",
              "      <td>0</td>\n",
              "      <td>0.2340</td>\n",
              "      <td>0.16300</td>\n",
              "      <td>0.400</td>\n",
              "      <td>140.037</td>\n",
              "      <td>168228</td>\n",
              "      <td>4</td>\n",
              "      <td>1.379</td>\n",
              "    </tr>\n",
              "    <tr>\n",
              "      <th>7</th>\n",
              "      <td>7</td>\n",
              "      <td>ELEVEN</td>\n",
              "      <td>IVE</td>\n",
              "      <td>0.828</td>\n",
              "      <td>0.731</td>\n",
              "      <td>9</td>\n",
              "      <td>-3.033</td>\n",
              "      <td>1</td>\n",
              "      <td>0.1110</td>\n",
              "      <td>0.06170</td>\n",
              "      <td>0.587</td>\n",
              "      <td>119.978</td>\n",
              "      <td>178453</td>\n",
              "      <td>4</td>\n",
              "      <td>1.559</td>\n",
              "    </tr>\n",
              "    <tr>\n",
              "      <th>8</th>\n",
              "      <td>8</td>\n",
              "      <td>Queendom</td>\n",
              "      <td>Red Velvet</td>\n",
              "      <td>0.695</td>\n",
              "      <td>0.896</td>\n",
              "      <td>5</td>\n",
              "      <td>-1.240</td>\n",
              "      <td>1</td>\n",
              "      <td>0.0847</td>\n",
              "      <td>0.17900</td>\n",
              "      <td>0.508</td>\n",
              "      <td>119.959</td>\n",
              "      <td>181760</td>\n",
              "      <td>4</td>\n",
              "      <td>1.591</td>\n",
              "    </tr>\n",
              "    <tr>\n",
              "      <th>9</th>\n",
              "      <td>9</td>\n",
              "      <td>Celebrity</td>\n",
              "      <td>IU</td>\n",
              "      <td>0.730</td>\n",
              "      <td>0.784</td>\n",
              "      <td>9</td>\n",
              "      <td>-2.620</td>\n",
              "      <td>1</td>\n",
              "      <td>0.0691</td>\n",
              "      <td>0.19100</td>\n",
              "      <td>0.673</td>\n",
              "      <td>99.995</td>\n",
              "      <td>195547</td>\n",
              "      <td>4</td>\n",
              "      <td>1.514</td>\n",
              "    </tr>\n",
              "  </tbody>\n",
              "</table>\n",
              "</div>\n",
              "      <button class=\"colab-df-convert\" onclick=\"convertToInteractive('df-25c73122-7e07-49bb-bcb8-a92ba203266f')\"\n",
              "              title=\"Convert this dataframe to an interactive table.\"\n",
              "              style=\"display:none;\">\n",
              "        \n",
              "  <svg xmlns=\"http://www.w3.org/2000/svg\" height=\"24px\"viewBox=\"0 0 24 24\"\n",
              "       width=\"24px\">\n",
              "    <path d=\"M0 0h24v24H0V0z\" fill=\"none\"/>\n",
              "    <path d=\"M18.56 5.44l.94 2.06.94-2.06 2.06-.94-2.06-.94-.94-2.06-.94 2.06-2.06.94zm-11 1L8.5 8.5l.94-2.06 2.06-.94-2.06-.94L8.5 2.5l-.94 2.06-2.06.94zm10 10l.94 2.06.94-2.06 2.06-.94-2.06-.94-.94-2.06-.94 2.06-2.06.94z\"/><path d=\"M17.41 7.96l-1.37-1.37c-.4-.4-.92-.59-1.43-.59-.52 0-1.04.2-1.43.59L10.3 9.45l-7.72 7.72c-.78.78-.78 2.05 0 2.83L4 21.41c.39.39.9.59 1.41.59.51 0 1.02-.2 1.41-.59l7.78-7.78 2.81-2.81c.8-.78.8-2.07 0-2.86zM5.41 20L4 18.59l7.72-7.72 1.47 1.35L5.41 20z\"/>\n",
              "  </svg>\n",
              "      </button>\n",
              "      \n",
              "  <style>\n",
              "    .colab-df-container {\n",
              "      display:flex;\n",
              "      flex-wrap:wrap;\n",
              "      gap: 12px;\n",
              "    }\n",
              "\n",
              "    .colab-df-convert {\n",
              "      background-color: #E8F0FE;\n",
              "      border: none;\n",
              "      border-radius: 50%;\n",
              "      cursor: pointer;\n",
              "      display: none;\n",
              "      fill: #1967D2;\n",
              "      height: 32px;\n",
              "      padding: 0 0 0 0;\n",
              "      width: 32px;\n",
              "    }\n",
              "\n",
              "    .colab-df-convert:hover {\n",
              "      background-color: #E2EBFA;\n",
              "      box-shadow: 0px 1px 2px rgba(60, 64, 67, 0.3), 0px 1px 3px 1px rgba(60, 64, 67, 0.15);\n",
              "      fill: #174EA6;\n",
              "    }\n",
              "\n",
              "    [theme=dark] .colab-df-convert {\n",
              "      background-color: #3B4455;\n",
              "      fill: #D2E3FC;\n",
              "    }\n",
              "\n",
              "    [theme=dark] .colab-df-convert:hover {\n",
              "      background-color: #434B5C;\n",
              "      box-shadow: 0px 1px 3px 1px rgba(0, 0, 0, 0.15);\n",
              "      filter: drop-shadow(0px 1px 2px rgba(0, 0, 0, 0.3));\n",
              "      fill: #FFFFFF;\n",
              "    }\n",
              "  </style>\n",
              "\n",
              "      <script>\n",
              "        const buttonEl =\n",
              "          document.querySelector('#df-25c73122-7e07-49bb-bcb8-a92ba203266f button.colab-df-convert');\n",
              "        buttonEl.style.display =\n",
              "          google.colab.kernel.accessAllowed ? 'block' : 'none';\n",
              "\n",
              "        async function convertToInteractive(key) {\n",
              "          const element = document.querySelector('#df-25c73122-7e07-49bb-bcb8-a92ba203266f');\n",
              "          const dataTable =\n",
              "            await google.colab.kernel.invokeFunction('convertToInteractive',\n",
              "                                                     [key], {});\n",
              "          if (!dataTable) return;\n",
              "\n",
              "          const docLinkHtml = 'Like what you see? Visit the ' +\n",
              "            '<a target=\"_blank\" href=https://colab.research.google.com/notebooks/data_table.ipynb>data table notebook</a>'\n",
              "            + ' to learn more about interactive tables.';\n",
              "          element.innerHTML = '';\n",
              "          dataTable['output_type'] = 'display_data';\n",
              "          await google.colab.output.renderOutput(dataTable, element);\n",
              "          const docLink = document.createElement('div');\n",
              "          docLink.innerHTML = docLinkHtml;\n",
              "          element.appendChild(docLink);\n",
              "        }\n",
              "      </script>\n",
              "    </div>\n",
              "  </div>\n",
              "  "
            ]
          },
          "metadata": {},
          "execution_count": 34
        }
      ]
    },
    {
      "cell_type": "markdown",
      "source": [
        "Como vai ser possivel ver pela saída do código abaixo, a saída é com dados que não convergem entre si, com isso para uma melhor visualização, será feita um código abaixo:"
      ],
      "metadata": {
        "id": "2bQEwcDMhgrA"
      }
    },
    {
      "cell_type": "code",
      "source": [
        "songs['2021']['cheerful'].value_counts()"
      ],
      "metadata": {
        "colab": {
          "base_uri": "https://localhost:8080/"
        },
        "id": "VWuxmYqJhdeo",
        "outputId": "761c4938-a704-4ff7-89ac-e5d45d46867e"
      },
      "execution_count": null,
      "outputs": [
        {
          "output_type": "execute_result",
          "data": {
            "text/plain": [
              "1.566    2\n",
              "1.606    2\n",
              "1.373    2\n",
              "1.628    2\n",
              "1.218    1\n",
              "1.545    1\n",
              "1.024    1\n",
              "1.511    1\n",
              "1.387    1\n",
              "1.130    1\n",
              "1.728    1\n",
              "1.430    1\n",
              "1.437    1\n",
              "1.070    1\n",
              "1.187    1\n",
              "1.645    1\n",
              "1.480    1\n",
              "1.624    1\n",
              "1.296    1\n",
              "1.620    1\n",
              "1.604    1\n",
              "1.319    1\n",
              "1.452    1\n",
              "1.725    1\n",
              "1.456    1\n",
              "1.644    1\n",
              "1.468    1\n",
              "1.711    1\n",
              "1.443    1\n",
              "1.660    1\n",
              "1.597    1\n",
              "1.379    1\n",
              "1.559    1\n",
              "1.591    1\n",
              "1.514    1\n",
              "1.695    1\n",
              "0.918    1\n",
              "1.594    1\n",
              "1.584    1\n",
              "1.562    1\n",
              "1.348    1\n",
              "1.410    1\n",
              "1.313    1\n",
              "1.420    1\n",
              "1.473    1\n",
              "1.372    1\n",
              "Name: cheerful, dtype: int64"
            ]
          },
          "metadata": {},
          "execution_count": 35
        }
      ]
    },
    {
      "cell_type": "code",
      "source": [
        "songs['2021']['cheerful'].value_counts(sort=False).sort_index()"
      ],
      "metadata": {
        "colab": {
          "base_uri": "https://localhost:8080/"
        },
        "id": "8KjegWRFjdpn",
        "outputId": "1b55b460-3f1f-4a04-aecd-5587d1b11ddd"
      },
      "execution_count": null,
      "outputs": [
        {
          "output_type": "execute_result",
          "data": {
            "text/plain": [
              "0.918    1\n",
              "1.024    1\n",
              "1.070    1\n",
              "1.130    1\n",
              "1.187    1\n",
              "1.218    1\n",
              "1.296    1\n",
              "1.313    1\n",
              "1.319    1\n",
              "1.348    1\n",
              "1.372    1\n",
              "1.373    2\n",
              "1.379    1\n",
              "1.387    1\n",
              "1.410    1\n",
              "1.420    1\n",
              "1.430    1\n",
              "1.437    1\n",
              "1.443    1\n",
              "1.452    1\n",
              "1.456    1\n",
              "1.468    1\n",
              "1.473    1\n",
              "1.480    1\n",
              "1.511    1\n",
              "1.514    1\n",
              "1.545    1\n",
              "1.559    1\n",
              "1.562    1\n",
              "1.566    2\n",
              "1.584    1\n",
              "1.591    1\n",
              "1.594    1\n",
              "1.597    1\n",
              "1.604    1\n",
              "1.606    2\n",
              "1.620    1\n",
              "1.624    1\n",
              "1.628    2\n",
              "1.644    1\n",
              "1.645    1\n",
              "1.660    1\n",
              "1.695    1\n",
              "1.711    1\n",
              "1.725    1\n",
              "1.728    1\n",
              "Name: cheerful, dtype: int64"
            ]
          },
          "metadata": {},
          "execution_count": 36
        }
      ]
    },
    {
      "cell_type": "markdown",
      "source": [
        "Kpop é conhecido principalmente por suas músicas animadas e videos com muitos efeitos visuais coloridos. Uma grande referencia mundial, além de BTS claro, é o cantor PSY que viralizou no ano de 2012 com sua música Gangnam Style, que fala sobre o estilo de Gangnam, um bairro rico de Seul, capital da Coreia do Sul (bairro que geralmente localizam as empresas de entretenimento que gerenciam esses artistas) e nesse bairro também, acontecem muitas festas luxuosas, tem muitas lojas, shoppings, predios, etc.\n",
        "\n",
        "https://www.tynecine.org/qual-e-o-bairro-mais-rico-de-seul/\n",
        "\n",
        "Não só por tentar retratar esse estilo de vida, mas por tentar criticar, como o caso da música Go Go - BTS e Dionysus - BTS, que fala do consumo exagerado e da \"ostentação\" exagerada dos artistas daquele meio, a industria do K-POP é conhecida por ser uma incrivel e impecavel marketeira, criando artistas e músicas a todo momento, valorizando a cultura nacional.\n",
        "\n",
        "https://medium.com/what-is-going-on-in-korea/4-successful-marketing-lessons-from-the-k-pop-music-industry-f8a9c4b900fa\n",
        "\n",
        "Assim como todo mercado, tem seus pontos negativos, mas não sendo o foco agora. O KPOP é conhecido por suas musicas animadas, grupos grandes (com mais de 7 membros), sempre com coreografias sincronizadas, videos coloridos e alegres, como Bubble Pop, da cantora solo Hyuna, ou como Sorry Sorry, do grupo Super Junior, ou puxando para a 2a geração do KPOP, Call Me Baby do EXO, ou Cheer Up do Twice.\n",
        "\n",
        "Trazendo a ideia de que, as músicas de KPOP são músicas animadas, com isso, levo aos dados:"
      ],
      "metadata": {
        "id": "SPLZi3QBknyZ"
      }
    },
    {
      "cell_type": "code",
      "source": [
        "cheerfulData = 0\n",
        "for num in range(23):\n",
        "  if num == 0:\n",
        "    year = 90\n",
        "    #print(nineties['cheerful'].value_counts())\n",
        "    cheerfulData += len(nineties[nineties['cheerful'] >= nineties['cheerful'].median()])\n",
        "  elif num > 0 and num < 11:\n",
        "    if num == 1:\n",
        "      year = 0\n",
        "    twothousand = songs['200'+str(year)]\n",
        "    cheerfulData += len(twothousand[twothousand['cheerful'] >= twothousand['cheerful'].median()])\n",
        "  else:\n",
        "    twoten = songs['20'+str(year)]\n",
        "    cheerfulData += len(twoten[twoten['cheerful'] >= twoten['cheerful'].median()])\n",
        "\n",
        "  if num != 0:\n",
        "        year += 1\n",
        "\n",
        "print(\"Existem \", kpophits,\" dados no total, desses \", cheerfulData, \" são músicas que tem 'cheerful' acima da mediana, podendo ser analisado como uma músida animada\")"
      ],
      "metadata": {
        "id": "rtw_rl2lz45P",
        "colab": {
          "base_uri": "https://localhost:8080/"
        },
        "outputId": "7ebc941a-1dc0-4e6d-d177-8834b2232d8b"
      },
      "execution_count": null,
      "outputs": [
        {
          "output_type": "stream",
          "name": "stdout",
          "text": [
            "Existem  797  dados no total, desses  404  são músicas que tem 'cheerful' acima da mediana, podendo ser analisado como uma músida animada\n"
          ]
        }
      ]
    },
    {
      "cell_type": "markdown",
      "source": [
        "# Função Probabilidade"
      ],
      "metadata": {
        "id": "CJuYVSr13UzZ"
      }
    },
    {
      "cell_type": "code",
      "source": [
        "cheerfulFp = songs['2020']['cheerful'].value_counts(sort=False).sort_index()/songs['2020']['cheerful'].count()\n",
        "print(cheerfulFp)"
      ],
      "metadata": {
        "id": "jhMKRAH03Xse",
        "colab": {
          "base_uri": "https://localhost:8080/"
        },
        "outputId": "4d97aa18-b036-4352-e813-cbd97aa7d318"
      },
      "execution_count": null,
      "outputs": [
        {
          "output_type": "stream",
          "name": "stdout",
          "text": [
            "1.229    0.02\n",
            "1.282    0.02\n",
            "1.293    0.02\n",
            "1.327    0.02\n",
            "1.361    0.02\n",
            "1.362    0.02\n",
            "1.379    0.02\n",
            "1.400    0.02\n",
            "1.404    0.02\n",
            "1.407    0.02\n",
            "1.416    0.02\n",
            "1.431    0.02\n",
            "1.435    0.02\n",
            "1.452    0.02\n",
            "1.456    0.02\n",
            "1.460    0.02\n",
            "1.468    0.02\n",
            "1.477    0.04\n",
            "1.491    0.02\n",
            "1.511    0.02\n",
            "1.524    0.02\n",
            "1.527    0.02\n",
            "1.528    0.02\n",
            "1.533    0.02\n",
            "1.537    0.02\n",
            "1.538    0.02\n",
            "1.542    0.02\n",
            "1.545    0.02\n",
            "1.548    0.04\n",
            "1.556    0.02\n",
            "1.571    0.02\n",
            "1.573    0.04\n",
            "1.580    0.04\n",
            "1.584    0.02\n",
            "1.592    0.02\n",
            "1.610    0.02\n",
            "1.624    0.02\n",
            "1.629    0.02\n",
            "1.656    0.02\n",
            "1.661    0.02\n",
            "1.663    0.02\n",
            "1.667    0.02\n",
            "1.685    0.02\n",
            "1.687    0.02\n",
            "1.689    0.02\n",
            "1.720    0.02\n",
            "Name: cheerful, dtype: float64\n"
          ]
        }
      ]
    },
    {
      "cell_type": "markdown",
      "source": [
        "# Função Repartição"
      ],
      "metadata": {
        "id": "Id0t2fEi3nzK"
      }
    },
    {
      "cell_type": "code",
      "source": [
        "cheerfulFp.cumsum()"
      ],
      "metadata": {
        "id": "AezNDEpd3tE8",
        "colab": {
          "base_uri": "https://localhost:8080/"
        },
        "outputId": "42bd6004-6b15-46e2-cf2e-d239cd3eedd6"
      },
      "execution_count": null,
      "outputs": [
        {
          "output_type": "execute_result",
          "data": {
            "text/plain": [
              "1.229    0.02\n",
              "1.282    0.04\n",
              "1.293    0.06\n",
              "1.327    0.08\n",
              "1.361    0.10\n",
              "1.362    0.12\n",
              "1.379    0.14\n",
              "1.400    0.16\n",
              "1.404    0.18\n",
              "1.407    0.20\n",
              "1.416    0.22\n",
              "1.431    0.24\n",
              "1.435    0.26\n",
              "1.452    0.28\n",
              "1.456    0.30\n",
              "1.460    0.32\n",
              "1.468    0.34\n",
              "1.477    0.38\n",
              "1.491    0.40\n",
              "1.511    0.42\n",
              "1.524    0.44\n",
              "1.527    0.46\n",
              "1.528    0.48\n",
              "1.533    0.50\n",
              "1.537    0.52\n",
              "1.538    0.54\n",
              "1.542    0.56\n",
              "1.545    0.58\n",
              "1.548    0.62\n",
              "1.556    0.64\n",
              "1.571    0.66\n",
              "1.573    0.70\n",
              "1.580    0.74\n",
              "1.584    0.76\n",
              "1.592    0.78\n",
              "1.610    0.80\n",
              "1.624    0.82\n",
              "1.629    0.84\n",
              "1.656    0.86\n",
              "1.661    0.88\n",
              "1.663    0.90\n",
              "1.667    0.92\n",
              "1.685    0.94\n",
              "1.687    0.96\n",
              "1.689    0.98\n",
              "1.720    1.00\n",
              "Name: cheerful, dtype: float64"
            ]
          },
          "metadata": {},
          "execution_count": 39
        }
      ]
    },
    {
      "cell_type": "markdown",
      "source": [
        "# Gráfico Simples"
      ],
      "metadata": {
        "id": "GfI7Dmw83yTK"
      }
    },
    {
      "cell_type": "markdown",
      "source": [
        "Por riscos na visualização de dados, vou colocar dois graficos:"
      ],
      "metadata": {
        "id": "aTQJaojPzZt6"
      }
    },
    {
      "cell_type": "code",
      "source": [
        "import matplotlib.pyplot as plt"
      ],
      "metadata": {
        "id": "8LIzB3jO32dM"
      },
      "execution_count": null,
      "outputs": []
    },
    {
      "cell_type": "code",
      "source": [
        "# 1°: Trazendo dados de todas as tabelas\n",
        "cheerful = 0\n",
        "for num in range(23):\n",
        "  if num == 0:\n",
        "    year = 90\n",
        "    #print(nineties['cheerful'].value_counts())\n",
        "    cheerful += nineties['cheerful']\n",
        "  elif num > 0 and num < 11:\n",
        "    if num == 1:\n",
        "      year = 0\n",
        "    twothousand = songs['200'+str(year)]\n",
        "    cheerful += twothousand['cheerful']\n",
        "  else:\n",
        "    twoten = songs['20'+str(year)]\n",
        "    cheerful += twoten['cheerful']\n",
        "\n",
        "  if num != 0:\n",
        "        year += 1\n",
        "\n",
        "\n",
        "cheerfulFpGraph = cheerful.value_counts(sort=False).sort_index()/cheerful.count()"
      ],
      "metadata": {
        "id": "HXRwyR-bxPZe"
      },
      "execution_count": null,
      "outputs": []
    },
    {
      "cell_type": "code",
      "source": [
        "plt.plot(cheerfulFpGraph)"
      ],
      "metadata": {
        "id": "Fqi00277332-",
        "colab": {
          "base_uri": "https://localhost:8080/",
          "height": 282
        },
        "outputId": "0eb92465-be32-41b7-840d-6a7d5c47d7dc"
      },
      "execution_count": null,
      "outputs": [
        {
          "output_type": "execute_result",
          "data": {
            "text/plain": [
              "[<matplotlib.lines.Line2D at 0x7f7d06c5b290>]"
            ]
          },
          "metadata": {},
          "execution_count": 42
        },
        {
          "output_type": "display_data",
          "data": {
            "text/plain": [
              "<Figure size 432x288 with 1 Axes>"
            ],
            "image/png": "[encoded data removed]"
          },
          "metadata": {
            "needs_background": "light"
          }
        }
      ]
    },
    {
      "cell_type": "code",
      "source": [
        "repartAllTables = cheerfulFpGraph.cumsum()"
      ],
      "metadata": {
        "id": "YIEEkhEZ4H4m"
      },
      "execution_count": null,
      "outputs": []
    },
    {
      "cell_type": "code",
      "source": [
        "plt.plot(repartAllTables, 'r--')\n",
        "plt.xlabel('Música Alta')\n",
        "plt.ylabel('Probabilidade')"
      ],
      "metadata": {
        "id": "mW1N76cN4MmK",
        "colab": {
          "base_uri": "https://localhost:8080/",
          "height": 296
        },
        "outputId": "3318d550-1de7-4f68-9c50-03d311d20d11"
      },
      "execution_count": null,
      "outputs": [
        {
          "output_type": "execute_result",
          "data": {
            "text/plain": [
              "Text(0, 0.5, 'Probabilidade')"
            ]
          },
          "metadata": {},
          "execution_count": 44
        },
        {
          "output_type": "display_data",
          "data": {
            "text/plain": [
              "<Figure size 432x288 with 1 Axes>"
            ],
            "image/png": "[encoded data removed]"
          },
          "metadata": {
            "needs_background": "light"
          }
        }
      ]
    },
    {
      "cell_type": "code",
      "source": [
        "# 2°: Trazendo dados apenas da tabela de 2020 (Ano de lançamento de Dynamite - BTS)\n",
        "\n",
        "plt.plot(cheerfulFp)"
      ],
      "metadata": {
        "colab": {
          "base_uri": "https://localhost:8080/",
          "height": 282
        },
        "id": "_tsHR5lVzwAm",
        "outputId": "389a8fd3-7919-496c-be66-c17387547fe4"
      },
      "execution_count": null,
      "outputs": [
        {
          "output_type": "execute_result",
          "data": {
            "text/plain": [
              "[<matplotlib.lines.Line2D at 0x7f7d066a5f50>]"
            ]
          },
          "metadata": {},
          "execution_count": 45
        },
        {
          "output_type": "display_data",
          "data": {
            "text/plain": [
              "<Figure size 432x288 with 1 Axes>"
            ],
            "image/png": "[encoded data removed]"
          },
          "metadata": {
            "needs_background": "light"
          }
        }
      ]
    },
    {
      "cell_type": "code",
      "source": [
        "repart = cheerfulFp.cumsum()"
      ],
      "metadata": {
        "id": "oTrkylBp0K1q"
      },
      "execution_count": null,
      "outputs": []
    },
    {
      "cell_type": "code",
      "source": [
        "plt.plot(repart, 'r--')\n",
        "plt.xlabel('Música Alta')\n",
        "plt.ylabel('Probabilidade')"
      ],
      "metadata": {
        "colab": {
          "base_uri": "https://localhost:8080/",
          "height": 296
        },
        "id": "prbPSjBL0R0V",
        "outputId": "3d4e07bd-51a8-4b0f-fa46-b10d7b713015"
      },
      "execution_count": null,
      "outputs": [
        {
          "output_type": "execute_result",
          "data": {
            "text/plain": [
              "Text(0, 0.5, 'Probabilidade')"
            ]
          },
          "metadata": {},
          "execution_count": 47
        },
        {
          "output_type": "display_data",
          "data": {
            "text/plain": [
              "<Figure size 432x288 with 1 Axes>"
            ],
            "image/png": "[encoded data removed]"
          },
          "metadata": {
            "needs_background": "light"
          }
        }
      ]
    },
    {
      "cell_type": "markdown",
      "source": [
        "Como dito no texto da explicação de Variaveis Aleatoria, o KPOP é conhecido por suas músicas animadas, videos com muitos efeitos visuais e coreografias sincronizadas.\n",
        "\n",
        "https://www.vox.com/culture/2018/2/16/16915672/what-is-kpop-history-explained\n",
        "\n",
        "Uma coisa muito interessante a se observar, é de que no primeiro gráfico, de Função probabilidade, apesar de nada amigavel de se analisar e ambar as ocasiões que ele foi trazido, em sua primeira ocorrencia ele pode ser uma linha reta, pois em todos os outros anos ele repete o caso do gráfico de 2020\n",
        "\n",
        "Assim, como o caso do segundo grafico, onde os dado convergem."
      ],
      "metadata": {
        "id": "74dCDegd0iij"
      }
    },
    {
      "cell_type": "markdown",
      "source": [
        "# Covariância"
      ],
      "metadata": {
        "id": "LdeaPPmO4u5D"
      }
    },
    {
      "cell_type": "code",
      "source": [
        "for num in range(23):\n",
        "  if num > 13:\n",
        "    if num == 14:\n",
        "      year = 13\n",
        "    twoten = songs['20'+str(year)]\n",
        "    print(\"20\"+str(year))\n",
        "    print(twoten[['valence', 'cheerful']].cov())\n",
        "    print(\"-----------------------------------|\")\n",
        "\n",
        "  if num != 0:\n",
        "        year += 1"
      ],
      "metadata": {
        "id": "tgZIFSkB4yus",
        "colab": {
          "base_uri": "https://localhost:8080/"
        },
        "outputId": "60f77a26-3226-4efb-f7b7-abbd018fe1df"
      },
      "execution_count": null,
      "outputs": [
        {
          "output_type": "stream",
          "name": "stdout",
          "text": [
            "2013\n",
            "           valence  cheerful\n",
            "valence   0.044121  0.028407\n",
            "cheerful  0.028407  0.047875\n",
            "-----------------------------------|\n",
            "2014\n",
            "           valence  cheerful\n",
            "valence   0.064478  0.057801\n",
            "cheerful  0.057801  0.113003\n",
            "-----------------------------------|\n",
            "2015\n",
            "           valence  cheerful\n",
            "valence   0.051181  0.028289\n",
            "cheerful  0.028289  0.049356\n",
            "-----------------------------------|\n",
            "2016\n",
            "           valence  cheerful\n",
            "valence   0.058448  0.048300\n",
            "cheerful  0.048300  0.076864\n",
            "-----------------------------------|\n",
            "2017\n",
            "           valence  cheerful\n",
            "valence   0.037299  0.027526\n",
            "cheerful  0.027526  0.047072\n",
            "-----------------------------------|\n",
            "2018\n",
            "           valence  cheerful\n",
            "valence   0.035724  0.028667\n",
            "cheerful  0.028667  0.055615\n",
            "-----------------------------------|\n",
            "2019\n",
            "           valence  cheerful\n",
            "valence   0.035203  0.014889\n",
            "cheerful  0.014889  0.028778\n",
            "-----------------------------------|\n",
            "2020\n",
            "           valence  cheerful\n",
            "valence   0.029735  0.006352\n",
            "cheerful  0.006352  0.013266\n",
            "-----------------------------------|\n",
            "2021\n",
            "           valence  cheerful\n",
            "valence   0.036904  0.015456\n",
            "cheerful  0.015456  0.033893\n",
            "-----------------------------------|\n"
          ]
        }
      ]
    },
    {
      "cell_type": "markdown",
      "source": [
        "# Correlação"
      ],
      "metadata": {
        "id": "hxFch78O5SdZ"
      }
    },
    {
      "cell_type": "code",
      "source": [
        "for num in range(23):\n",
        "  if num > 13:\n",
        "    if num == 14:\n",
        "      year = 13\n",
        "    twoten = songs['20'+str(year)]\n",
        "    print(\"20\"+str(year))\n",
        "    print(twoten[['valence', 'cheerful']].corr())\n",
        "    print(\"-----------------------------------|\")\n",
        "\n",
        "  if num != 0:\n",
        "        year += 1"
      ],
      "metadata": {
        "id": "Wc31BEbK5VvF",
        "colab": {
          "base_uri": "https://localhost:8080/"
        },
        "outputId": "04e842e8-5f16-4802-9080-34f4282ee961"
      },
      "execution_count": null,
      "outputs": [
        {
          "output_type": "stream",
          "name": "stdout",
          "text": [
            "2013\n",
            "           valence  cheerful\n",
            "valence   1.000000  0.618087\n",
            "cheerful  0.618087  1.000000\n",
            "-----------------------------------|\n",
            "2014\n",
            "          valence  cheerful\n",
            "valence   1.00000   0.67715\n",
            "cheerful  0.67715   1.00000\n",
            "-----------------------------------|\n",
            "2015\n",
            "          valence  cheerful\n",
            "valence   1.00000   0.56286\n",
            "cheerful  0.56286   1.00000\n",
            "-----------------------------------|\n",
            "2016\n",
            "           valence  cheerful\n",
            "valence   1.000000  0.720606\n",
            "cheerful  0.720606  1.000000\n",
            "-----------------------------------|\n",
            "2017\n",
            "           valence  cheerful\n",
            "valence   1.000000  0.656917\n",
            "cheerful  0.656917  1.000000\n",
            "-----------------------------------|\n",
            "2018\n",
            "           valence  cheerful\n",
            "valence   1.000000  0.643142\n",
            "cheerful  0.643142  1.000000\n",
            "-----------------------------------|\n",
            "2019\n",
            "           valence  cheerful\n",
            "valence   1.000000  0.467797\n",
            "cheerful  0.467797  1.000000\n",
            "-----------------------------------|\n",
            "2020\n",
            "           valence  cheerful\n",
            "valence   1.000000  0.319832\n",
            "cheerful  0.319832  1.000000\n",
            "-----------------------------------|\n",
            "2021\n",
            "           valence  cheerful\n",
            "valence   1.000000  0.437026\n",
            "cheerful  0.437026  1.000000\n",
            "-----------------------------------|\n"
          ]
        }
      ]
    },
    {
      "cell_type": "markdown",
      "source": [
        "O Coeficiente de Correlação de Pearson tem as seguintes métricas:\n",
        "\n",
        "* 0.9 para mais ou para menos indica uma correlação muito forte.\n",
        "* 0.7 a 0.9 positivo ou negativo indica uma correlação forte.\n",
        "* 0.5 a 0.7 positivo ou negativo indica uma correlação moderada.\n",
        "* 0.3 a 0.5 positivo ou negativo indica uma correlação fraca.\n",
        "* 0 a 0.3 positivo ou negativo indica uma correlação desprezível.\n",
        "\n",
        "É possível observar que a relação da música, de sua animação, energia pode sim ter influência na positividade que ela transmite. Não é o caso em todos os anos, ja que os dados variam, por exemplo, em 2020, ano marcado pela pandemia, a correlação fica mais proximo de 0.3, sendo considerada despresivel.\n",
        "\n",
        "Contudo, no ano de 2016, ano de Olimpiada, Coreia ficou 8° melhor medalhista, de grandes premiações na Asia, como o MAMA (Mnet Asian Music Awards), esse numero foi de 0.72, sendo uma correlação forte!\n",
        "\n",
        "\n",
        "\n",
        "---\n",
        "\n"
      ],
      "metadata": {
        "id": "nSPhGWtD7KAR"
      }
    },
    {
      "cell_type": "markdown",
      "source": [
        "Para a apresentação dos gráficos abaixo serão utilizados dados apenas de uma única tabela seperadamente, para melhor visualização e também para melhor manipulação dos dados.\n",
        "\n",
        "Por agora, o ano escolhido foi o ano de 2021, por ser o mais proximo, mas também serão mostrado dados do ano de 2015/2016 :)"
      ],
      "metadata": {
        "id": "tA0HFHZLLRKW"
      }
    },
    {
      "cell_type": "markdown",
      "source": [
        "## Heatmap para correlação"
      ],
      "metadata": {
        "id": "uNDYn1fuC_i7"
      }
    },
    {
      "cell_type": "code",
      "source": [
        "import seaborn as sns"
      ],
      "metadata": {
        "id": "CH__qUU8IEcD"
      },
      "execution_count": null,
      "outputs": []
    },
    {
      "cell_type": "code",
      "source": [
        "songsCorr = songs['2020'][['valence', 'cheerful']].corr()\n",
        "sns.heatmap(songsCorr, vmin = -1, vmax = +1, annot = True, yticklabels=False)"
      ],
      "metadata": {
        "colab": {
          "base_uri": "https://localhost:8080/",
          "height": 286
        },
        "id": "rWdGGQaRDPGO",
        "outputId": "133132aa-57c2-4265-bd0f-63d5ded9592f"
      },
      "execution_count": null,
      "outputs": [
        {
          "output_type": "execute_result",
          "data": {
            "text/plain": [
              "<matplotlib.axes._subplots.AxesSubplot at 0x7f7d06cc5c90>"
            ]
          },
          "metadata": {},
          "execution_count": 52
        },
        {
          "output_type": "display_data",
          "data": {
            "text/plain": [
              "<Figure size 432x288 with 2 Axes>"
            ],
            "image/png": "[encoded data removed]"
          },
          "metadata": {
            "needs_background": "light"
          }
        }
      ]
    },
    {
      "cell_type": "code",
      "source": [
        "songsCorr16 = songs['2016'][['valence', 'cheerful']].corr()\n",
        "sns.heatmap(songsCorr16, vmin = -1, vmax = +1, annot = True, yticklabels=False)"
      ],
      "metadata": {
        "colab": {
          "base_uri": "https://localhost:8080/",
          "height": 286
        },
        "id": "7IpdzeGnPMqI",
        "outputId": "55f9c379-e9b1-4f6b-e795-4a9cbf2108cd"
      },
      "execution_count": null,
      "outputs": [
        {
          "output_type": "execute_result",
          "data": {
            "text/plain": [
              "<matplotlib.axes._subplots.AxesSubplot at 0x7f7cf7a3d590>"
            ]
          },
          "metadata": {},
          "execution_count": 53
        },
        {
          "output_type": "display_data",
          "data": {
            "text/plain": [
              "<Figure size 432x288 with 2 Axes>"
            ],
            "image/png": "[encoded data removed]"
          },
          "metadata": {
            "needs_background": "light"
          }
        }
      ]
    },
    {
      "cell_type": "markdown",
      "source": [
        "# Estatística Descritiva"
      ],
      "metadata": {
        "id": "AZ40qYhdBp_S"
      }
    },
    {
      "cell_type": "code",
      "source": [
        "import plotly.express as px"
      ],
      "metadata": {
        "id": "IFWG0uSeD6PN"
      },
      "execution_count": null,
      "outputs": []
    },
    {
      "cell_type": "markdown",
      "source": [
        "## Box Plot"
      ],
      "metadata": {
        "id": "h3Z-bJR5CXZC"
      }
    },
    {
      "cell_type": "code",
      "source": [
        "fig = px.box(songs['2021'], x='key', y='tempo', title='Key x Tempo')\n",
        "fig.show()"
      ],
      "metadata": {
        "colab": {
          "base_uri": "https://localhost:8080/",
          "height": 542
        },
        "id": "70WXsjJqCWZb",
        "outputId": "00301f8c-95c2-4ff7-babf-e85c2a7a3d42"
      },
      "execution_count": null,
      "outputs": [
        {
          "output_type": "display_data",
          "data": {
            "text/html": [
              "<html>\n",
              "<head><meta charset=\"utf-8\" /></head>\n",
              "<body>\n",
              "    <div>            <script src=\"https://cdnjs.cloudflare.com/ajax/libs/mathjax/2.7.5/MathJax.js?config=TeX-AMS-MML_SVG\"></script><script type=\"text/javascript\">if (window.MathJax) {MathJax.Hub.Config({SVG: {font: \"STIX-Web\"}});}</script>                <script type=\"text/javascript\">window.PlotlyConfig = {MathJaxConfig: 'local'};</script>\n",
              "        <script src=\"https://cdn.plot.ly/plotly-2.8.3.min.js\"></script>                <div id=\"3cfedd1c-dc1b-4363-b75b-2fa055114786\" class=\"plotly-graph-div\" style=\"height:525px; width:100%;\"></div>            <script type=\"text/javascript\">                                    window.PLOTLYENV=window.PLOTLYENV || {};                                    if (document.getElementById(\"3cfedd1c-dc1b-4363-b75b-2fa055114786\")) {                    Plotly.newPlot(                        \"3cfedd1c-dc1b-4363-b75b-2fa055114786\",                        [{\"alignmentgroup\":\"True\",\"hovertemplate\":\"key=%{x}<br>tempo=%{y}<extra></extra>\",\"legendgroup\":\"\",\"marker\":{\"color\":\"#636efa\"},\"name\":\"\",\"notched\":false,\"offsetgroup\":\"\",\"orientation\":\"v\",\"showlegend\":false,\"x\":[8,9,9,9,6,8,1,9,5,9,6,2,1,8,0,2,1,1,6,6,0,9,2,11,5,1,8,9,6,1,7,11,1,0,11,0,11,6,0,7,9,2,2,2,1,9,5,10,10,2],\"x0\":\" \",\"xaxis\":\"x\",\"y\":[109.997,120.044,146.959,124.925,140.055,97.097,140.037,119.978,119.959,99.995,100.034,114.942,188.7,114.029,132.02,103.027,164.007,170.006,148.298,72.999,104.973,129.984,82.026,112.999,132.889,102.065,150.076,128.007,79.936,124.954,127.933,124.997,172.156,142.977,116.004,150.039,163.966,169.796,130.036,61.45,161.983,119.957,156.032,109.982,114.968,125.07,149.944,100.923,103.028,161.672],\"y0\":\" \",\"yaxis\":\"y\",\"type\":\"box\"}],                        {\"template\":{\"data\":{\"bar\":[{\"error_x\":{\"color\":\"#2a3f5f\"},\"error_y\":{\"color\":\"#2a3f5f\"},\"marker\":{\"line\":{\"color\":\"#E5ECF6\",\"width\":0.5},\"pattern\":{\"fillmode\":\"overlay\",\"size\":10,\"solidity\":0.2}},\"type\":\"bar\"}],\"barpolar\":[{\"marker\":{\"line\":{\"color\":\"#E5ECF6\",\"width\":0.5},\"pattern\":{\"fillmode\":\"overlay\",\"size\":10,\"solidity\":0.2}},\"type\":\"barpolar\"}],\"carpet\":[{\"aaxis\":{\"endlinecolor\":\"#2a3f5f\",\"gridcolor\":\"white\",\"linecolor\":\"white\",\"minorgridcolor\":\"white\",\"startlinecolor\":\"#2a3f5f\"},\"baxis\":{\"endlinecolor\":\"#2a3f5f\",\"gridcolor\":\"white\",\"linecolor\":\"white\",\"minorgridcolor\":\"white\",\"startlinecolor\":\"#2a3f5f\"},\"type\":\"carpet\"}],\"choropleth\":[{\"colorbar\":{\"outlinewidth\":0,\"ticks\":\"\"},\"type\":\"choropleth\"}],\"contour\":[{\"colorbar\":{\"outlinewidth\":0,\"ticks\":\"\"},\"colorscale\":[[0.0,\"#0d0887\"],[0.1111111111111111,\"#46039f\"],[0.2222222222222222,\"#7201a8\"],[0.3333333333333333,\"#9c179e\"],[0.4444444444444444,\"#bd3786\"],[0.5555555555555556,\"#d8576b\"],[0.6666666666666666,\"#ed7953\"],[0.7777777777777778,\"#fb9f3a\"],[0.8888888888888888,\"#fdca26\"],[1.0,\"#f0f921\"]],\"type\":\"contour\"}],\"contourcarpet\":[{\"colorbar\":{\"outlinewidth\":0,\"ticks\":\"\"},\"type\":\"contourcarpet\"}],\"heatmap\":[{\"colorbar\":{\"outlinewidth\":0,\"ticks\":\"\"},\"colorscale\":[[0.0,\"#0d0887\"],[0.1111111111111111,\"#46039f\"],[0.2222222222222222,\"#7201a8\"],[0.3333333333333333,\"#9c179e\"],[0.4444444444444444,\"#bd3786\"],[0.5555555555555556,\"#d8576b\"],[0.6666666666666666,\"#ed7953\"],[0.7777777777777778,\"#fb9f3a\"],[0.8888888888888888,\"#fdca26\"],[1.0,\"#f0f921\"]],\"type\":\"heatmap\"}],\"heatmapgl\":[{\"colorbar\":{\"outlinewidth\":0,\"ticks\":\"\"},\"colorscale\":[[0.0,\"#0d0887\"],[0.1111111111111111,\"#46039f\"],[0.2222222222222222,\"#7201a8\"],[0.3333333333333333,\"#9c179e\"],[0.4444444444444444,\"#bd3786\"],[0.5555555555555556,\"#d8576b\"],[0.6666666666666666,\"#ed7953\"],[0.7777777777777778,\"#fb9f3a\"],[0.8888888888888888,\"#fdca26\"],[1.0,\"#f0f921\"]],\"type\":\"heatmapgl\"}],\"histogram\":[{\"marker\":{\"pattern\":{\"fillmode\":\"overlay\",\"size\":10,\"solidity\":0.2}},\"type\":\"histogram\"}],\"histogram2d\":[{\"colorbar\":{\"outlinewidth\":0,\"ticks\":\"\"},\"colorscale\":[[0.0,\"#0d0887\"],[0.1111111111111111,\"#46039f\"],[0.2222222222222222,\"#7201a8\"],[0.3333333333333333,\"#9c179e\"],[0.4444444444444444,\"#bd3786\"],[0.5555555555555556,\"#d8576b\"],[0.6666666666666666,\"#ed7953\"],[0.7777777777777778,\"#fb9f3a\"],[0.8888888888888888,\"#fdca26\"],[1.0,\"#f0f921\"]],\"type\":\"histogram2d\"}],\"histogram2dcontour\":[{\"colorbar\":{\"outlinewidth\":0,\"ticks\":\"\"},\"colorscale\":[[0.0,\"#0d0887\"],[0.1111111111111111,\"#46039f\"],[0.2222222222222222,\"#7201a8\"],[0.3333333333333333,\"#9c179e\"],[0.4444444444444444,\"#bd3786\"],[0.5555555555555556,\"#d8576b\"],[0.6666666666666666,\"#ed7953\"],[0.7777777777777778,\"#fb9f3a\"],[0.8888888888888888,\"#fdca26\"],[1.0,\"#f0f921\"]],\"type\":\"histogram2dcontour\"}],\"mesh3d\":[{\"colorbar\":{\"outlinewidth\":0,\"ticks\":\"\"},\"type\":\"mesh3d\"}],\"parcoords\":[{\"line\":{\"colorbar\":{\"outlinewidth\":0,\"ticks\":\"\"}},\"type\":\"parcoords\"}],\"pie\":[{\"automargin\":true,\"type\":\"pie\"}],\"scatter\":[{\"marker\":{\"colorbar\":{\"outlinewidth\":0,\"ticks\":\"\"}},\"type\":\"scatter\"}],\"scatter3d\":[{\"line\":{\"colorbar\":{\"outlinewidth\":0,\"ticks\":\"\"}},\"marker\":{\"colorbar\":{\"outlinewidth\":0,\"ticks\":\"\"}},\"type\":\"scatter3d\"}],\"scattercarpet\":[{\"marker\":{\"colorbar\":{\"outlinewidth\":0,\"ticks\":\"\"}},\"type\":\"scattercarpet\"}],\"scattergeo\":[{\"marker\":{\"colorbar\":{\"outlinewidth\":0,\"ticks\":\"\"}},\"type\":\"scattergeo\"}],\"scattergl\":[{\"marker\":{\"colorbar\":{\"outlinewidth\":0,\"ticks\":\"\"}},\"type\":\"scattergl\"}],\"scattermapbox\":[{\"marker\":{\"colorbar\":{\"outlinewidth\":0,\"ticks\":\"\"}},\"type\":\"scattermapbox\"}],\"scatterpolar\":[{\"marker\":{\"colorbar\":{\"outlinewidth\":0,\"ticks\":\"\"}},\"type\":\"scatterpolar\"}],\"scatterpolargl\":[{\"marker\":{\"colorbar\":{\"outlinewidth\":0,\"ticks\":\"\"}},\"type\":\"scatterpolargl\"}],\"scatterternary\":[{\"marker\":{\"colorbar\":{\"outlinewidth\":0,\"ticks\":\"\"}},\"type\":\"scatterternary\"}],\"surface\":[{\"colorbar\":{\"outlinewidth\":0,\"ticks\":\"\"},\"colorscale\":[[0.0,\"#0d0887\"],[0.1111111111111111,\"#46039f\"],[0.2222222222222222,\"#7201a8\"],[0.3333333333333333,\"#9c179e\"],[0.4444444444444444,\"#bd3786\"],[0.5555555555555556,\"#d8576b\"],[0.6666666666666666,\"#ed7953\"],[0.7777777777777778,\"#fb9f3a\"],[0.8888888888888888,\"#fdca26\"],[1.0,\"#f0f921\"]],\"type\":\"surface\"}],\"table\":[{\"cells\":{\"fill\":{\"color\":\"#EBF0F8\"},\"line\":{\"color\":\"white\"}},\"header\":{\"fill\":{\"color\":\"#C8D4E3\"},\"line\":{\"color\":\"white\"}},\"type\":\"table\"}]},\"layout\":{\"annotationdefaults\":{\"arrowcolor\":\"#2a3f5f\",\"arrowhead\":0,\"arrowwidth\":1},\"autotypenumbers\":\"strict\",\"coloraxis\":{\"colorbar\":{\"outlinewidth\":0,\"ticks\":\"\"}},\"colorscale\":{\"diverging\":[[0,\"#8e0152\"],[0.1,\"#c51b7d\"],[0.2,\"#de77ae\"],[0.3,\"#f1b6da\"],[0.4,\"#fde0ef\"],[0.5,\"#f7f7f7\"],[0.6,\"#e6f5d0\"],[0.7,\"#b8e186\"],[0.8,\"#7fbc41\"],[0.9,\"#4d9221\"],[1,\"#276419\"]],\"sequential\":[[0.0,\"#0d0887\"],[0.1111111111111111,\"#46039f\"],[0.2222222222222222,\"#7201a8\"],[0.3333333333333333,\"#9c179e\"],[0.4444444444444444,\"#bd3786\"],[0.5555555555555556,\"#d8576b\"],[0.6666666666666666,\"#ed7953\"],[0.7777777777777778,\"#fb9f3a\"],[0.8888888888888888,\"#fdca26\"],[1.0,\"#f0f921\"]],\"sequentialminus\":[[0.0,\"#0d0887\"],[0.1111111111111111,\"#46039f\"],[0.2222222222222222,\"#7201a8\"],[0.3333333333333333,\"#9c179e\"],[0.4444444444444444,\"#bd3786\"],[0.5555555555555556,\"#d8576b\"],[0.6666666666666666,\"#ed7953\"],[0.7777777777777778,\"#fb9f3a\"],[0.8888888888888888,\"#fdca26\"],[1.0,\"#f0f921\"]]},\"colorway\":[\"#636efa\",\"#EF553B\",\"#00cc96\",\"#ab63fa\",\"#FFA15A\",\"#19d3f3\",\"#FF6692\",\"#B6E880\",\"#FF97FF\",\"#FECB52\"],\"font\":{\"color\":\"#2a3f5f\"},\"geo\":{\"bgcolor\":\"white\",\"lakecolor\":\"white\",\"landcolor\":\"#E5ECF6\",\"showlakes\":true,\"showland\":true,\"subunitcolor\":\"white\"},\"hoverlabel\":{\"align\":\"left\"},\"hovermode\":\"closest\",\"mapbox\":{\"style\":\"light\"},\"paper_bgcolor\":\"white\",\"plot_bgcolor\":\"#E5ECF6\",\"polar\":{\"angularaxis\":{\"gridcolor\":\"white\",\"linecolor\":\"white\",\"ticks\":\"\"},\"bgcolor\":\"#E5ECF6\",\"radialaxis\":{\"gridcolor\":\"white\",\"linecolor\":\"white\",\"ticks\":\"\"}},\"scene\":{\"xaxis\":{\"backgroundcolor\":\"#E5ECF6\",\"gridcolor\":\"white\",\"gridwidth\":2,\"linecolor\":\"white\",\"showbackground\":true,\"ticks\":\"\",\"zerolinecolor\":\"white\"},\"yaxis\":{\"backgroundcolor\":\"#E5ECF6\",\"gridcolor\":\"white\",\"gridwidth\":2,\"linecolor\":\"white\",\"showbackground\":true,\"ticks\":\"\",\"zerolinecolor\":\"white\"},\"zaxis\":{\"backgroundcolor\":\"#E5ECF6\",\"gridcolor\":\"white\",\"gridwidth\":2,\"linecolor\":\"white\",\"showbackground\":true,\"ticks\":\"\",\"zerolinecolor\":\"white\"}},\"shapedefaults\":{\"line\":{\"color\":\"#2a3f5f\"}},\"ternary\":{\"aaxis\":{\"gridcolor\":\"white\",\"linecolor\":\"white\",\"ticks\":\"\"},\"baxis\":{\"gridcolor\":\"white\",\"linecolor\":\"white\",\"ticks\":\"\"},\"bgcolor\":\"#E5ECF6\",\"caxis\":{\"gridcolor\":\"white\",\"linecolor\":\"white\",\"ticks\":\"\"}},\"title\":{\"x\":0.05},\"xaxis\":{\"automargin\":true,\"gridcolor\":\"white\",\"linecolor\":\"white\",\"ticks\":\"\",\"title\":{\"standoff\":15},\"zerolinecolor\":\"white\",\"zerolinewidth\":2},\"yaxis\":{\"automargin\":true,\"gridcolor\":\"white\",\"linecolor\":\"white\",\"ticks\":\"\",\"title\":{\"standoff\":15},\"zerolinecolor\":\"white\",\"zerolinewidth\":2}}},\"xaxis\":{\"anchor\":\"y\",\"domain\":[0.0,1.0],\"title\":{\"text\":\"key\"}},\"yaxis\":{\"anchor\":\"x\",\"domain\":[0.0,1.0],\"title\":{\"text\":\"tempo\"}},\"legend\":{\"tracegroupgap\":0},\"title\":{\"text\":\"Key x Tempo\"},\"boxmode\":\"group\"},                        {\"responsive\": true}                    ).then(function(){\n",
              "                            \n",
              "var gd = document.getElementById('3cfedd1c-dc1b-4363-b75b-2fa055114786');\n",
              "var x = new MutationObserver(function (mutations, observer) {{\n",
              "        var display = window.getComputedStyle(gd).display;\n",
              "        if (!display || display === 'none') {{\n",
              "            console.log([gd, 'removed!']);\n",
              "            Plotly.purge(gd);\n",
              "            observer.disconnect();\n",
              "        }}\n",
              "}});\n",
              "\n",
              "// Listen for the removal of the full notebook cells\n",
              "var notebookContainer = gd.closest('#notebook-container');\n",
              "if (notebookContainer) {{\n",
              "    x.observe(notebookContainer, {childList: true});\n",
              "}}\n",
              "\n",
              "// Listen for the clearing of the current output cell\n",
              "var outputEl = gd.closest('.output');\n",
              "if (outputEl) {{\n",
              "    x.observe(outputEl, {childList: true});\n",
              "}}\n",
              "\n",
              "                        })                };                            </script>        </div>\n",
              "</body>\n",
              "</html>"
            ]
          },
          "metadata": {}
        }
      ]
    },
    {
      "cell_type": "markdown",
      "source": [
        "Tempo em música é a duração de cada unidade de compasso, ou seja, também pode indicar a velocidade com que se executa determinado trecho da música. Em uma partitura, o tempo ritmico, é representado pela forma de um compasso musical ou pela assinatura do tempo, que é uma notação padrão usada para especificar *quantas batidas (pulsos) estão contidos em cada compasso*.\n",
        "\n",
        "https://pt.wikipedia.org/wiki/Tempo_(m%C3%BAsica)\n",
        "\n",
        "Key (tom) em música pode ter varios significados, como pode ser o intervalo na escala diatônica, também se refere a altura na escala geral dos sons (tom grave, tom agudo).\n",
        "\n",
        "https://pt.wikipedia.org/wiki/Tom\n",
        "\n",
        "http://www.equilibriumescola.com.br/o-que-e-tonalidade-aprenda-de-uma-vez-por-todas/\n",
        "\n"
      ],
      "metadata": {
        "id": "p2UYlohSnyD1"
      }
    },
    {
      "cell_type": "markdown",
      "source": [
        "### Analise do Gráfico\n",
        "\n",
        "Sabendo o que cada dado significa, então segundo o Box Plot é possível interpretar que músicas que tem Key == 6, ou seja, sexto grau musical mais presente (Lá) tendem a ter uma maior variabilidade de Tempo, ou seja, mais batidas por minuto, do que uma música de Key == 9 (Sol Maior).\n",
        "\n",
        "https://www.descomplicandoamusica.com/graus-musicais/\n",
        "\n",
        "Não compreendo muito de música, estou longe saber teoria musical, pelos dados mostrados no gráficos é possivel traçar uma suposição que música com intervalos (tempos em cada unidade compasso) mais complexos, tendem a ter tons (key) com notas de graus maiores."
      ],
      "metadata": {
        "id": "jASfsPhf3rc9"
      }
    },
    {
      "cell_type": "markdown",
      "source": [
        "## Histograma"
      ],
      "metadata": {
        "id": "pL0MVRCHC4A2"
      }
    },
    {
      "cell_type": "code",
      "source": [
        "# ano que valencia nao tem relação com musica animadas\n",
        "fig20 = px.histogram(songs['2020'], x = 'speechiness', marginal = 'rug')\n",
        "fig20.show()"
      ],
      "metadata": {
        "colab": {
          "base_uri": "https://localhost:8080/",
          "height": 542
        },
        "id": "uzzvqYt4C6dq",
        "outputId": "7dbd7aca-215f-4fba-ff3a-fc5f25f701cd"
      },
      "execution_count": null,
      "outputs": [
        {
          "output_type": "display_data",
          "data": {
            "text/html": [
              "<html>\n",
              "<head><meta charset=\"utf-8\" /></head>\n",
              "<body>\n",
              "    <div>            <script src=\"https://cdnjs.cloudflare.com/ajax/libs/mathjax/2.7.5/MathJax.js?config=TeX-AMS-MML_SVG\"></script><script type=\"text/javascript\">if (window.MathJax) {MathJax.Hub.Config({SVG: {font: \"STIX-Web\"}});}</script>                <script type=\"text/javascript\">window.PlotlyConfig = {MathJaxConfig: 'local'};</script>\n",
              "        <script src=\"https://cdn.plot.ly/plotly-2.8.3.min.js\"></script>                <div id=\"1154cc6b-72eb-4d02-af68-8a41dc61d056\" class=\"plotly-graph-div\" style=\"height:525px; width:100%;\"></div>            <script type=\"text/javascript\">                                    window.PLOTLYENV=window.PLOTLYENV || {};                                    if (document.getElementById(\"1154cc6b-72eb-4d02-af68-8a41dc61d056\")) {                    Plotly.newPlot(                        \"1154cc6b-72eb-4d02-af68-8a41dc61d056\",                        [{\"alignmentgroup\":\"True\",\"bingroup\":\"x\",\"hovertemplate\":\"speechiness=%{x}<br>count=%{y}<extra></extra>\",\"legendgroup\":\"\",\"marker\":{\"color\":\"#636efa\",\"pattern\":{\"shape\":\"\"}},\"name\":\"\",\"offsetgroup\":\"\",\"orientation\":\"v\",\"showlegend\":false,\"x\":[0.06,0.0993,0.0918,0.0617,0.129,0.0461,0.0987,0.131,0.0664,0.0537,0.115,0.102,0.35,0.0851,0.0424,0.0423,0.0599,0.0392,0.06,0.0775,0.1,0.0488,0.0548,0.0869,0.0455,0.103,0.0604,0.0449,0.0795,0.198,0.0428,0.229,0.045,0.0634,0.056,0.0741,0.0438,0.0499,0.0517,0.0911,0.0916,0.0602,0.148,0.0575,0.149,0.156,0.0509,0.0476,0.117,0.0646],\"xaxis\":\"x\",\"yaxis\":\"y\",\"type\":\"histogram\"},{\"alignmentgroup\":\"True\",\"boxpoints\":\"all\",\"fillcolor\":\"rgba(255,255,255,0)\",\"hoveron\":\"points\",\"hovertemplate\":\"speechiness=%{x}<extra></extra>\",\"jitter\":0,\"legendgroup\":\"\",\"line\":{\"color\":\"rgba(255,255,255,0)\"},\"marker\":{\"color\":\"#636efa\",\"symbol\":\"line-ns-open\"},\"name\":\"\",\"offsetgroup\":\"\",\"showlegend\":false,\"x\":[0.06,0.0993,0.0918,0.0617,0.129,0.0461,0.0987,0.131,0.0664,0.0537,0.115,0.102,0.35,0.0851,0.0424,0.0423,0.0599,0.0392,0.06,0.0775,0.1,0.0488,0.0548,0.0869,0.0455,0.103,0.0604,0.0449,0.0795,0.198,0.0428,0.229,0.045,0.0634,0.056,0.0741,0.0438,0.0499,0.0517,0.0911,0.0916,0.0602,0.148,0.0575,0.149,0.156,0.0509,0.0476,0.117,0.0646],\"xaxis\":\"x2\",\"yaxis\":\"y2\",\"type\":\"box\"}],                        {\"template\":{\"data\":{\"bar\":[{\"error_x\":{\"color\":\"#2a3f5f\"},\"error_y\":{\"color\":\"#2a3f5f\"},\"marker\":{\"line\":{\"color\":\"#E5ECF6\",\"width\":0.5},\"pattern\":{\"fillmode\":\"overlay\",\"size\":10,\"solidity\":0.2}},\"type\":\"bar\"}],\"barpolar\":[{\"marker\":{\"line\":{\"color\":\"#E5ECF6\",\"width\":0.5},\"pattern\":{\"fillmode\":\"overlay\",\"size\":10,\"solidity\":0.2}},\"type\":\"barpolar\"}],\"carpet\":[{\"aaxis\":{\"endlinecolor\":\"#2a3f5f\",\"gridcolor\":\"white\",\"linecolor\":\"white\",\"minorgridcolor\":\"white\",\"startlinecolor\":\"#2a3f5f\"},\"baxis\":{\"endlinecolor\":\"#2a3f5f\",\"gridcolor\":\"white\",\"linecolor\":\"white\",\"minorgridcolor\":\"white\",\"startlinecolor\":\"#2a3f5f\"},\"type\":\"carpet\"}],\"choropleth\":[{\"colorbar\":{\"outlinewidth\":0,\"ticks\":\"\"},\"type\":\"choropleth\"}],\"contour\":[{\"colorbar\":{\"outlinewidth\":0,\"ticks\":\"\"},\"colorscale\":[[0.0,\"#0d0887\"],[0.1111111111111111,\"#46039f\"],[0.2222222222222222,\"#7201a8\"],[0.3333333333333333,\"#9c179e\"],[0.4444444444444444,\"#bd3786\"],[0.5555555555555556,\"#d8576b\"],[0.6666666666666666,\"#ed7953\"],[0.7777777777777778,\"#fb9f3a\"],[0.8888888888888888,\"#fdca26\"],[1.0,\"#f0f921\"]],\"type\":\"contour\"}],\"contourcarpet\":[{\"colorbar\":{\"outlinewidth\":0,\"ticks\":\"\"},\"type\":\"contourcarpet\"}],\"heatmap\":[{\"colorbar\":{\"outlinewidth\":0,\"ticks\":\"\"},\"colorscale\":[[0.0,\"#0d0887\"],[0.1111111111111111,\"#46039f\"],[0.2222222222222222,\"#7201a8\"],[0.3333333333333333,\"#9c179e\"],[0.4444444444444444,\"#bd3786\"],[0.5555555555555556,\"#d8576b\"],[0.6666666666666666,\"#ed7953\"],[0.7777777777777778,\"#fb9f3a\"],[0.8888888888888888,\"#fdca26\"],[1.0,\"#f0f921\"]],\"type\":\"heatmap\"}],\"heatmapgl\":[{\"colorbar\":{\"outlinewidth\":0,\"ticks\":\"\"},\"colorscale\":[[0.0,\"#0d0887\"],[0.1111111111111111,\"#46039f\"],[0.2222222222222222,\"#7201a8\"],[0.3333333333333333,\"#9c179e\"],[0.4444444444444444,\"#bd3786\"],[0.5555555555555556,\"#d8576b\"],[0.6666666666666666,\"#ed7953\"],[0.7777777777777778,\"#fb9f3a\"],[0.8888888888888888,\"#fdca26\"],[1.0,\"#f0f921\"]],\"type\":\"heatmapgl\"}],\"histogram\":[{\"marker\":{\"pattern\":{\"fillmode\":\"overlay\",\"size\":10,\"solidity\":0.2}},\"type\":\"histogram\"}],\"histogram2d\":[{\"colorbar\":{\"outlinewidth\":0,\"ticks\":\"\"},\"colorscale\":[[0.0,\"#0d0887\"],[0.1111111111111111,\"#46039f\"],[0.2222222222222222,\"#7201a8\"],[0.3333333333333333,\"#9c179e\"],[0.4444444444444444,\"#bd3786\"],[0.5555555555555556,\"#d8576b\"],[0.6666666666666666,\"#ed7953\"],[0.7777777777777778,\"#fb9f3a\"],[0.8888888888888888,\"#fdca26\"],[1.0,\"#f0f921\"]],\"type\":\"histogram2d\"}],\"histogram2dcontour\":[{\"colorbar\":{\"outlinewidth\":0,\"ticks\":\"\"},\"colorscale\":[[0.0,\"#0d0887\"],[0.1111111111111111,\"#46039f\"],[0.2222222222222222,\"#7201a8\"],[0.3333333333333333,\"#9c179e\"],[0.4444444444444444,\"#bd3786\"],[0.5555555555555556,\"#d8576b\"],[0.6666666666666666,\"#ed7953\"],[0.7777777777777778,\"#fb9f3a\"],[0.8888888888888888,\"#fdca26\"],[1.0,\"#f0f921\"]],\"type\":\"histogram2dcontour\"}],\"mesh3d\":[{\"colorbar\":{\"outlinewidth\":0,\"ticks\":\"\"},\"type\":\"mesh3d\"}],\"parcoords\":[{\"line\":{\"colorbar\":{\"outlinewidth\":0,\"ticks\":\"\"}},\"type\":\"parcoords\"}],\"pie\":[{\"automargin\":true,\"type\":\"pie\"}],\"scatter\":[{\"marker\":{\"colorbar\":{\"outlinewidth\":0,\"ticks\":\"\"}},\"type\":\"scatter\"}],\"scatter3d\":[{\"line\":{\"colorbar\":{\"outlinewidth\":0,\"ticks\":\"\"}},\"marker\":{\"colorbar\":{\"outlinewidth\":0,\"ticks\":\"\"}},\"type\":\"scatter3d\"}],\"scattercarpet\":[{\"marker\":{\"colorbar\":{\"outlinewidth\":0,\"ticks\":\"\"}},\"type\":\"scattercarpet\"}],\"scattergeo\":[{\"marker\":{\"colorbar\":{\"outlinewidth\":0,\"ticks\":\"\"}},\"type\":\"scattergeo\"}],\"scattergl\":[{\"marker\":{\"colorbar\":{\"outlinewidth\":0,\"ticks\":\"\"}},\"type\":\"scattergl\"}],\"scattermapbox\":[{\"marker\":{\"colorbar\":{\"outlinewidth\":0,\"ticks\":\"\"}},\"type\":\"scattermapbox\"}],\"scatterpolar\":[{\"marker\":{\"colorbar\":{\"outlinewidth\":0,\"ticks\":\"\"}},\"type\":\"scatterpolar\"}],\"scatterpolargl\":[{\"marker\":{\"colorbar\":{\"outlinewidth\":0,\"ticks\":\"\"}},\"type\":\"scatterpolargl\"}],\"scatterternary\":[{\"marker\":{\"colorbar\":{\"outlinewidth\":0,\"ticks\":\"\"}},\"type\":\"scatterternary\"}],\"surface\":[{\"colorbar\":{\"outlinewidth\":0,\"ticks\":\"\"},\"colorscale\":[[0.0,\"#0d0887\"],[0.1111111111111111,\"#46039f\"],[0.2222222222222222,\"#7201a8\"],[0.3333333333333333,\"#9c179e\"],[0.4444444444444444,\"#bd3786\"],[0.5555555555555556,\"#d8576b\"],[0.6666666666666666,\"#ed7953\"],[0.7777777777777778,\"#fb9f3a\"],[0.8888888888888888,\"#fdca26\"],[1.0,\"#f0f921\"]],\"type\":\"surface\"}],\"table\":[{\"cells\":{\"fill\":{\"color\":\"#EBF0F8\"},\"line\":{\"color\":\"white\"}},\"header\":{\"fill\":{\"color\":\"#C8D4E3\"},\"line\":{\"color\":\"white\"}},\"type\":\"table\"}]},\"layout\":{\"annotationdefaults\":{\"arrowcolor\":\"#2a3f5f\",\"arrowhead\":0,\"arrowwidth\":1},\"autotypenumbers\":\"strict\",\"coloraxis\":{\"colorbar\":{\"outlinewidth\":0,\"ticks\":\"\"}},\"colorscale\":{\"diverging\":[[0,\"#8e0152\"],[0.1,\"#c51b7d\"],[0.2,\"#de77ae\"],[0.3,\"#f1b6da\"],[0.4,\"#fde0ef\"],[0.5,\"#f7f7f7\"],[0.6,\"#e6f5d0\"],[0.7,\"#b8e186\"],[0.8,\"#7fbc41\"],[0.9,\"#4d9221\"],[1,\"#276419\"]],\"sequential\":[[0.0,\"#0d0887\"],[0.1111111111111111,\"#46039f\"],[0.2222222222222222,\"#7201a8\"],[0.3333333333333333,\"#9c179e\"],[0.4444444444444444,\"#bd3786\"],[0.5555555555555556,\"#d8576b\"],[0.6666666666666666,\"#ed7953\"],[0.7777777777777778,\"#fb9f3a\"],[0.8888888888888888,\"#fdca26\"],[1.0,\"#f0f921\"]],\"sequentialminus\":[[0.0,\"#0d0887\"],[0.1111111111111111,\"#46039f\"],[0.2222222222222222,\"#7201a8\"],[0.3333333333333333,\"#9c179e\"],[0.4444444444444444,\"#bd3786\"],[0.5555555555555556,\"#d8576b\"],[0.6666666666666666,\"#ed7953\"],[0.7777777777777778,\"#fb9f3a\"],[0.8888888888888888,\"#fdca26\"],[1.0,\"#f0f921\"]]},\"colorway\":[\"#636efa\",\"#EF553B\",\"#00cc96\",\"#ab63fa\",\"#FFA15A\",\"#19d3f3\",\"#FF6692\",\"#B6E880\",\"#FF97FF\",\"#FECB52\"],\"font\":{\"color\":\"#2a3f5f\"},\"geo\":{\"bgcolor\":\"white\",\"lakecolor\":\"white\",\"landcolor\":\"#E5ECF6\",\"showlakes\":true,\"showland\":true,\"subunitcolor\":\"white\"},\"hoverlabel\":{\"align\":\"left\"},\"hovermode\":\"closest\",\"mapbox\":{\"style\":\"light\"},\"paper_bgcolor\":\"white\",\"plot_bgcolor\":\"#E5ECF6\",\"polar\":{\"angularaxis\":{\"gridcolor\":\"white\",\"linecolor\":\"white\",\"ticks\":\"\"},\"bgcolor\":\"#E5ECF6\",\"radialaxis\":{\"gridcolor\":\"white\",\"linecolor\":\"white\",\"ticks\":\"\"}},\"scene\":{\"xaxis\":{\"backgroundcolor\":\"#E5ECF6\",\"gridcolor\":\"white\",\"gridwidth\":2,\"linecolor\":\"white\",\"showbackground\":true,\"ticks\":\"\",\"zerolinecolor\":\"white\"},\"yaxis\":{\"backgroundcolor\":\"#E5ECF6\",\"gridcolor\":\"white\",\"gridwidth\":2,\"linecolor\":\"white\",\"showbackground\":true,\"ticks\":\"\",\"zerolinecolor\":\"white\"},\"zaxis\":{\"backgroundcolor\":\"#E5ECF6\",\"gridcolor\":\"white\",\"gridwidth\":2,\"linecolor\":\"white\",\"showbackground\":true,\"ticks\":\"\",\"zerolinecolor\":\"white\"}},\"shapedefaults\":{\"line\":{\"color\":\"#2a3f5f\"}},\"ternary\":{\"aaxis\":{\"gridcolor\":\"white\",\"linecolor\":\"white\",\"ticks\":\"\"},\"baxis\":{\"gridcolor\":\"white\",\"linecolor\":\"white\",\"ticks\":\"\"},\"bgcolor\":\"#E5ECF6\",\"caxis\":{\"gridcolor\":\"white\",\"linecolor\":\"white\",\"ticks\":\"\"}},\"title\":{\"x\":0.05},\"xaxis\":{\"automargin\":true,\"gridcolor\":\"white\",\"linecolor\":\"white\",\"ticks\":\"\",\"title\":{\"standoff\":15},\"zerolinecolor\":\"white\",\"zerolinewidth\":2},\"yaxis\":{\"automargin\":true,\"gridcolor\":\"white\",\"linecolor\":\"white\",\"ticks\":\"\",\"title\":{\"standoff\":15},\"zerolinecolor\":\"white\",\"zerolinewidth\":2}}},\"xaxis\":{\"anchor\":\"y\",\"domain\":[0.0,1.0],\"title\":{\"text\":\"speechiness\"}},\"yaxis\":{\"anchor\":\"x\",\"domain\":[0.0,0.8316],\"title\":{\"text\":\"count\"}},\"xaxis2\":{\"anchor\":\"y2\",\"domain\":[0.0,1.0],\"matches\":\"x\",\"showticklabels\":false,\"showgrid\":true},\"yaxis2\":{\"anchor\":\"x2\",\"domain\":[0.8416,1.0],\"matches\":\"y2\",\"showticklabels\":false,\"showline\":false,\"ticks\":\"\",\"showgrid\":false},\"legend\":{\"tracegroupgap\":0},\"margin\":{\"t\":60},\"barmode\":\"relative\"},                        {\"responsive\": true}                    ).then(function(){\n",
              "                            \n",
              "var gd = document.getElementById('1154cc6b-72eb-4d02-af68-8a41dc61d056');\n",
              "var x = new MutationObserver(function (mutations, observer) {{\n",
              "        var display = window.getComputedStyle(gd).display;\n",
              "        if (!display || display === 'none') {{\n",
              "            console.log([gd, 'removed!']);\n",
              "            Plotly.purge(gd);\n",
              "            observer.disconnect();\n",
              "        }}\n",
              "}});\n",
              "\n",
              "// Listen for the removal of the full notebook cells\n",
              "var notebookContainer = gd.closest('#notebook-container');\n",
              "if (notebookContainer) {{\n",
              "    x.observe(notebookContainer, {childList: true});\n",
              "}}\n",
              "\n",
              "// Listen for the clearing of the current output cell\n",
              "var outputEl = gd.closest('.output');\n",
              "if (outputEl) {{\n",
              "    x.observe(outputEl, {childList: true});\n",
              "}}\n",
              "\n",
              "                        })                };                            </script>        </div>\n",
              "</body>\n",
              "</html>"
            ]
          },
          "metadata": {}
        }
      ]
    },
    {
      "cell_type": "code",
      "source": [
        "# ano que valencia tem muita relação com musicas animadas\n",
        "fig16 = px.histogram(songs['2016'], x = 'speechiness', marginal = 'rug')\n",
        "fig16.show()"
      ],
      "metadata": {
        "colab": {
          "base_uri": "https://localhost:8080/",
          "height": 542
        },
        "id": "-zF9mqLFXqoh",
        "outputId": "4da26615-72c6-4fa5-f97e-5112864086cc"
      },
      "execution_count": null,
      "outputs": [
        {
          "output_type": "display_data",
          "data": {
            "text/html": [
              "<html>\n",
              "<head><meta charset=\"utf-8\" /></head>\n",
              "<body>\n",
              "    <div>            <script src=\"https://cdnjs.cloudflare.com/ajax/libs/mathjax/2.7.5/MathJax.js?config=TeX-AMS-MML_SVG\"></script><script type=\"text/javascript\">if (window.MathJax) {MathJax.Hub.Config({SVG: {font: \"STIX-Web\"}});}</script>                <script type=\"text/javascript\">window.PlotlyConfig = {MathJaxConfig: 'local'};</script>\n",
              "        <script src=\"https://cdn.plot.ly/plotly-2.8.3.min.js\"></script>                <div id=\"0cad7b98-9c1c-44f2-bcc7-f5497c21ab42\" class=\"plotly-graph-div\" style=\"height:525px; width:100%;\"></div>            <script type=\"text/javascript\">                                    window.PLOTLYENV=window.PLOTLYENV || {};                                    if (document.getElementById(\"0cad7b98-9c1c-44f2-bcc7-f5497c21ab42\")) {                    Plotly.newPlot(                        \"0cad7b98-9c1c-44f2-bcc7-f5497c21ab42\",                        [{\"alignmentgroup\":\"True\",\"bingroup\":\"x\",\"hovertemplate\":\"speechiness=%{x}<br>count=%{y}<extra></extra>\",\"legendgroup\":\"\",\"marker\":{\"color\":\"#636efa\",\"pattern\":{\"shape\":\"\"}},\"name\":\"\",\"offsetgroup\":\"\",\"orientation\":\"v\",\"showlegend\":false,\"x\":[0.0851,0.0596,0.0945,0.0597,0.125,0.133,0.114,0.0357,0.177,0.0433,0.0329,0.0301,0.038,0.114,0.143,0.0969,0.0333,0.0631,0.0529,0.136,0.072,0.0327,0.0471,0.068,0.0616,0.0396,0.0327,0.0356,0.0381,0.0357],\"xaxis\":\"x\",\"yaxis\":\"y\",\"type\":\"histogram\"},{\"alignmentgroup\":\"True\",\"boxpoints\":\"all\",\"fillcolor\":\"rgba(255,255,255,0)\",\"hoveron\":\"points\",\"hovertemplate\":\"speechiness=%{x}<extra></extra>\",\"jitter\":0,\"legendgroup\":\"\",\"line\":{\"color\":\"rgba(255,255,255,0)\"},\"marker\":{\"color\":\"#636efa\",\"symbol\":\"line-ns-open\"},\"name\":\"\",\"offsetgroup\":\"\",\"showlegend\":false,\"x\":[0.0851,0.0596,0.0945,0.0597,0.125,0.133,0.114,0.0357,0.177,0.0433,0.0329,0.0301,0.038,0.114,0.143,0.0969,0.0333,0.0631,0.0529,0.136,0.072,0.0327,0.0471,0.068,0.0616,0.0396,0.0327,0.0356,0.0381,0.0357],\"xaxis\":\"x2\",\"yaxis\":\"y2\",\"type\":\"box\"}],                        {\"template\":{\"data\":{\"bar\":[{\"error_x\":{\"color\":\"#2a3f5f\"},\"error_y\":{\"color\":\"#2a3f5f\"},\"marker\":{\"line\":{\"color\":\"#E5ECF6\",\"width\":0.5},\"pattern\":{\"fillmode\":\"overlay\",\"size\":10,\"solidity\":0.2}},\"type\":\"bar\"}],\"barpolar\":[{\"marker\":{\"line\":{\"color\":\"#E5ECF6\",\"width\":0.5},\"pattern\":{\"fillmode\":\"overlay\",\"size\":10,\"solidity\":0.2}},\"type\":\"barpolar\"}],\"carpet\":[{\"aaxis\":{\"endlinecolor\":\"#2a3f5f\",\"gridcolor\":\"white\",\"linecolor\":\"white\",\"minorgridcolor\":\"white\",\"startlinecolor\":\"#2a3f5f\"},\"baxis\":{\"endlinecolor\":\"#2a3f5f\",\"gridcolor\":\"white\",\"linecolor\":\"white\",\"minorgridcolor\":\"white\",\"startlinecolor\":\"#2a3f5f\"},\"type\":\"carpet\"}],\"choropleth\":[{\"colorbar\":{\"outlinewidth\":0,\"ticks\":\"\"},\"type\":\"choropleth\"}],\"contour\":[{\"colorbar\":{\"outlinewidth\":0,\"ticks\":\"\"},\"colorscale\":[[0.0,\"#0d0887\"],[0.1111111111111111,\"#46039f\"],[0.2222222222222222,\"#7201a8\"],[0.3333333333333333,\"#9c179e\"],[0.4444444444444444,\"#bd3786\"],[0.5555555555555556,\"#d8576b\"],[0.6666666666666666,\"#ed7953\"],[0.7777777777777778,\"#fb9f3a\"],[0.8888888888888888,\"#fdca26\"],[1.0,\"#f0f921\"]],\"type\":\"contour\"}],\"contourcarpet\":[{\"colorbar\":{\"outlinewidth\":0,\"ticks\":\"\"},\"type\":\"contourcarpet\"}],\"heatmap\":[{\"colorbar\":{\"outlinewidth\":0,\"ticks\":\"\"},\"colorscale\":[[0.0,\"#0d0887\"],[0.1111111111111111,\"#46039f\"],[0.2222222222222222,\"#7201a8\"],[0.3333333333333333,\"#9c179e\"],[0.4444444444444444,\"#bd3786\"],[0.5555555555555556,\"#d8576b\"],[0.6666666666666666,\"#ed7953\"],[0.7777777777777778,\"#fb9f3a\"],[0.8888888888888888,\"#fdca26\"],[1.0,\"#f0f921\"]],\"type\":\"heatmap\"}],\"heatmapgl\":[{\"colorbar\":{\"outlinewidth\":0,\"ticks\":\"\"},\"colorscale\":[[0.0,\"#0d0887\"],[0.1111111111111111,\"#46039f\"],[0.2222222222222222,\"#7201a8\"],[0.3333333333333333,\"#9c179e\"],[0.4444444444444444,\"#bd3786\"],[0.5555555555555556,\"#d8576b\"],[0.6666666666666666,\"#ed7953\"],[0.7777777777777778,\"#fb9f3a\"],[0.8888888888888888,\"#fdca26\"],[1.0,\"#f0f921\"]],\"type\":\"heatmapgl\"}],\"histogram\":[{\"marker\":{\"pattern\":{\"fillmode\":\"overlay\",\"size\":10,\"solidity\":0.2}},\"type\":\"histogram\"}],\"histogram2d\":[{\"colorbar\":{\"outlinewidth\":0,\"ticks\":\"\"},\"colorscale\":[[0.0,\"#0d0887\"],[0.1111111111111111,\"#46039f\"],[0.2222222222222222,\"#7201a8\"],[0.3333333333333333,\"#9c179e\"],[0.4444444444444444,\"#bd3786\"],[0.5555555555555556,\"#d8576b\"],[0.6666666666666666,\"#ed7953\"],[0.7777777777777778,\"#fb9f3a\"],[0.8888888888888888,\"#fdca26\"],[1.0,\"#f0f921\"]],\"type\":\"histogram2d\"}],\"histogram2dcontour\":[{\"colorbar\":{\"outlinewidth\":0,\"ticks\":\"\"},\"colorscale\":[[0.0,\"#0d0887\"],[0.1111111111111111,\"#46039f\"],[0.2222222222222222,\"#7201a8\"],[0.3333333333333333,\"#9c179e\"],[0.4444444444444444,\"#bd3786\"],[0.5555555555555556,\"#d8576b\"],[0.6666666666666666,\"#ed7953\"],[0.7777777777777778,\"#fb9f3a\"],[0.8888888888888888,\"#fdca26\"],[1.0,\"#f0f921\"]],\"type\":\"histogram2dcontour\"}],\"mesh3d\":[{\"colorbar\":{\"outlinewidth\":0,\"ticks\":\"\"},\"type\":\"mesh3d\"}],\"parcoords\":[{\"line\":{\"colorbar\":{\"outlinewidth\":0,\"ticks\":\"\"}},\"type\":\"parcoords\"}],\"pie\":[{\"automargin\":true,\"type\":\"pie\"}],\"scatter\":[{\"marker\":{\"colorbar\":{\"outlinewidth\":0,\"ticks\":\"\"}},\"type\":\"scatter\"}],\"scatter3d\":[{\"line\":{\"colorbar\":{\"outlinewidth\":0,\"ticks\":\"\"}},\"marker\":{\"colorbar\":{\"outlinewidth\":0,\"ticks\":\"\"}},\"type\":\"scatter3d\"}],\"scattercarpet\":[{\"marker\":{\"colorbar\":{\"outlinewidth\":0,\"ticks\":\"\"}},\"type\":\"scattercarpet\"}],\"scattergeo\":[{\"marker\":{\"colorbar\":{\"outlinewidth\":0,\"ticks\":\"\"}},\"type\":\"scattergeo\"}],\"scattergl\":[{\"marker\":{\"colorbar\":{\"outlinewidth\":0,\"ticks\":\"\"}},\"type\":\"scattergl\"}],\"scattermapbox\":[{\"marker\":{\"colorbar\":{\"outlinewidth\":0,\"ticks\":\"\"}},\"type\":\"scattermapbox\"}],\"scatterpolar\":[{\"marker\":{\"colorbar\":{\"outlinewidth\":0,\"ticks\":\"\"}},\"type\":\"scatterpolar\"}],\"scatterpolargl\":[{\"marker\":{\"colorbar\":{\"outlinewidth\":0,\"ticks\":\"\"}},\"type\":\"scatterpolargl\"}],\"scatterternary\":[{\"marker\":{\"colorbar\":{\"outlinewidth\":0,\"ticks\":\"\"}},\"type\":\"scatterternary\"}],\"surface\":[{\"colorbar\":{\"outlinewidth\":0,\"ticks\":\"\"},\"colorscale\":[[0.0,\"#0d0887\"],[0.1111111111111111,\"#46039f\"],[0.2222222222222222,\"#7201a8\"],[0.3333333333333333,\"#9c179e\"],[0.4444444444444444,\"#bd3786\"],[0.5555555555555556,\"#d8576b\"],[0.6666666666666666,\"#ed7953\"],[0.7777777777777778,\"#fb9f3a\"],[0.8888888888888888,\"#fdca26\"],[1.0,\"#f0f921\"]],\"type\":\"surface\"}],\"table\":[{\"cells\":{\"fill\":{\"color\":\"#EBF0F8\"},\"line\":{\"color\":\"white\"}},\"header\":{\"fill\":{\"color\":\"#C8D4E3\"},\"line\":{\"color\":\"white\"}},\"type\":\"table\"}]},\"layout\":{\"annotationdefaults\":{\"arrowcolor\":\"#2a3f5f\",\"arrowhead\":0,\"arrowwidth\":1},\"autotypenumbers\":\"strict\",\"coloraxis\":{\"colorbar\":{\"outlinewidth\":0,\"ticks\":\"\"}},\"colorscale\":{\"diverging\":[[0,\"#8e0152\"],[0.1,\"#c51b7d\"],[0.2,\"#de77ae\"],[0.3,\"#f1b6da\"],[0.4,\"#fde0ef\"],[0.5,\"#f7f7f7\"],[0.6,\"#e6f5d0\"],[0.7,\"#b8e186\"],[0.8,\"#7fbc41\"],[0.9,\"#4d9221\"],[1,\"#276419\"]],\"sequential\":[[0.0,\"#0d0887\"],[0.1111111111111111,\"#46039f\"],[0.2222222222222222,\"#7201a8\"],[0.3333333333333333,\"#9c179e\"],[0.4444444444444444,\"#bd3786\"],[0.5555555555555556,\"#d8576b\"],[0.6666666666666666,\"#ed7953\"],[0.7777777777777778,\"#fb9f3a\"],[0.8888888888888888,\"#fdca26\"],[1.0,\"#f0f921\"]],\"sequentialminus\":[[0.0,\"#0d0887\"],[0.1111111111111111,\"#46039f\"],[0.2222222222222222,\"#7201a8\"],[0.3333333333333333,\"#9c179e\"],[0.4444444444444444,\"#bd3786\"],[0.5555555555555556,\"#d8576b\"],[0.6666666666666666,\"#ed7953\"],[0.7777777777777778,\"#fb9f3a\"],[0.8888888888888888,\"#fdca26\"],[1.0,\"#f0f921\"]]},\"colorway\":[\"#636efa\",\"#EF553B\",\"#00cc96\",\"#ab63fa\",\"#FFA15A\",\"#19d3f3\",\"#FF6692\",\"#B6E880\",\"#FF97FF\",\"#FECB52\"],\"font\":{\"color\":\"#2a3f5f\"},\"geo\":{\"bgcolor\":\"white\",\"lakecolor\":\"white\",\"landcolor\":\"#E5ECF6\",\"showlakes\":true,\"showland\":true,\"subunitcolor\":\"white\"},\"hoverlabel\":{\"align\":\"left\"},\"hovermode\":\"closest\",\"mapbox\":{\"style\":\"light\"},\"paper_bgcolor\":\"white\",\"plot_bgcolor\":\"#E5ECF6\",\"polar\":{\"angularaxis\":{\"gridcolor\":\"white\",\"linecolor\":\"white\",\"ticks\":\"\"},\"bgcolor\":\"#E5ECF6\",\"radialaxis\":{\"gridcolor\":\"white\",\"linecolor\":\"white\",\"ticks\":\"\"}},\"scene\":{\"xaxis\":{\"backgroundcolor\":\"#E5ECF6\",\"gridcolor\":\"white\",\"gridwidth\":2,\"linecolor\":\"white\",\"showbackground\":true,\"ticks\":\"\",\"zerolinecolor\":\"white\"},\"yaxis\":{\"backgroundcolor\":\"#E5ECF6\",\"gridcolor\":\"white\",\"gridwidth\":2,\"linecolor\":\"white\",\"showbackground\":true,\"ticks\":\"\",\"zerolinecolor\":\"white\"},\"zaxis\":{\"backgroundcolor\":\"#E5ECF6\",\"gridcolor\":\"white\",\"gridwidth\":2,\"linecolor\":\"white\",\"showbackground\":true,\"ticks\":\"\",\"zerolinecolor\":\"white\"}},\"shapedefaults\":{\"line\":{\"color\":\"#2a3f5f\"}},\"ternary\":{\"aaxis\":{\"gridcolor\":\"white\",\"linecolor\":\"white\",\"ticks\":\"\"},\"baxis\":{\"gridcolor\":\"white\",\"linecolor\":\"white\",\"ticks\":\"\"},\"bgcolor\":\"#E5ECF6\",\"caxis\":{\"gridcolor\":\"white\",\"linecolor\":\"white\",\"ticks\":\"\"}},\"title\":{\"x\":0.05},\"xaxis\":{\"automargin\":true,\"gridcolor\":\"white\",\"linecolor\":\"white\",\"ticks\":\"\",\"title\":{\"standoff\":15},\"zerolinecolor\":\"white\",\"zerolinewidth\":2},\"yaxis\":{\"automargin\":true,\"gridcolor\":\"white\",\"linecolor\":\"white\",\"ticks\":\"\",\"title\":{\"standoff\":15},\"zerolinecolor\":\"white\",\"zerolinewidth\":2}}},\"xaxis\":{\"anchor\":\"y\",\"domain\":[0.0,1.0],\"title\":{\"text\":\"speechiness\"}},\"yaxis\":{\"anchor\":\"x\",\"domain\":[0.0,0.8316],\"title\":{\"text\":\"count\"}},\"xaxis2\":{\"anchor\":\"y2\",\"domain\":[0.0,1.0],\"matches\":\"x\",\"showticklabels\":false,\"showgrid\":true},\"yaxis2\":{\"anchor\":\"x2\",\"domain\":[0.8416,1.0],\"matches\":\"y2\",\"showticklabels\":false,\"showline\":false,\"ticks\":\"\",\"showgrid\":false},\"legend\":{\"tracegroupgap\":0},\"margin\":{\"t\":60},\"barmode\":\"relative\"},                        {\"responsive\": true}                    ).then(function(){\n",
              "                            \n",
              "var gd = document.getElementById('0cad7b98-9c1c-44f2-bcc7-f5497c21ab42');\n",
              "var x = new MutationObserver(function (mutations, observer) {{\n",
              "        var display = window.getComputedStyle(gd).display;\n",
              "        if (!display || display === 'none') {{\n",
              "            console.log([gd, 'removed!']);\n",
              "            Plotly.purge(gd);\n",
              "            observer.disconnect();\n",
              "        }}\n",
              "}});\n",
              "\n",
              "// Listen for the removal of the full notebook cells\n",
              "var notebookContainer = gd.closest('#notebook-container');\n",
              "if (notebookContainer) {{\n",
              "    x.observe(notebookContainer, {childList: true});\n",
              "}}\n",
              "\n",
              "// Listen for the clearing of the current output cell\n",
              "var outputEl = gd.closest('.output');\n",
              "if (outputEl) {{\n",
              "    x.observe(outputEl, {childList: true});\n",
              "}}\n",
              "\n",
              "                        })                };                            </script>        </div>\n",
              "</body>\n",
              "</html>"
            ]
          },
          "metadata": {}
        }
      ]
    },
    {
      "cell_type": "markdown",
      "source": [
        "```\n",
        "speechiness:\n",
        "Presence of spoken words in a track. The more exclusively speech-like the recording, the closer to\n",
        "1.0 the attribute value. Values above 0.66 describe tracks that are probably made entirely of spoken words. Values\n",
        "between 0.33 and 0.66 describe tracks that may contain both music and speech, either in sections or layered,\n",
        "including such cases as rap music. Values below 0.33 most likely represent music and other non-speech-like tracks.\n",
        "```\n",
        "Como fala a propria descrição dessa variavel dessa coluna, músicas geralmente apresentam um valor baixo de *speechiness*, o gráfico mostra que o valor mais presente entre 0.05 e 0.1 (que é abaixo de 0.33).\n",
        "\n",
        "Segundo o estudo abaixo, de outro Dataset do Kaggle, que faz uma analise com dados semelhantes aos aqui presente, mas com uma tabela de dados de músicas populares do Spotify, o resultado que se é chegado é de que, geralmente, em músicas famosas: \"*Liveness and Speechiness are still unanimously low*\", ou seja, músicas \"gostaveis\", tem uma baixa taxa de *speechiness*. como mostrado nos gráficos acima.\n",
        "\n",
        "https://towardsdatascience.com/what-makes-a-song-likeable-dbfdb7abe404\n"
      ],
      "metadata": {
        "id": "6Bm24BJNVCV5"
      }
    },
    {
      "cell_type": "markdown",
      "source": [
        "## Scatter plot"
      ],
      "metadata": {
        "id": "YTa9YOmrC64G"
      }
    },
    {
      "cell_type": "code",
      "source": [
        "col = ['danceability', 'energy', 'key', 'loudness', 'mode', 'speechiness', 'acousticness', 'valence', 'tempo', 'duration_ms', 'time_signature', 'cheerful']\n",
        "sns.pairplot(songs['2021'][col])"
      ],
      "metadata": {
        "colab": {
          "base_uri": "https://localhost:8080/",
          "height": 1000
        },
        "id": "60Grue5UC_Me",
        "outputId": "0a28b310-d426-48e8-9b4b-ef36edc191c4"
      },
      "execution_count": null,
      "outputs": [
        {
          "output_type": "execute_result",
          "data": {
            "text/plain": [
              "<seaborn.axisgrid.PairGrid at 0x7f7cf36e7850>"
            ]
          },
          "metadata": {},
          "execution_count": 57
        },
        {
          "output_type": "display_data",
          "data": {
            "text/plain": [
              "<Figure size 2160x2160 with 156 Axes>"
            ],
            "image/png": "[encoded data removed]"
          },
          "metadata": {
            "needs_background": "light"
          }
        }
      ]
    },
    {
      "cell_type": "markdown",
      "source": [
        "A psicologia por traz da música e seus beneficios e impactos nunca foram segredos, e esse Scatter Plot está ai para provar!\n",
        "\n",
        "Como mostra esse analise que foi citada anteriormente, que fala do que faz uma música ser \"gostavél\", traz casos que se repetem nessa analise aqui.\n",
        "https://towardsdatascience.com/what-makes-a-song-likeable-dbfdb7abe404\n",
        "\n",
        "As colunas analisadas aqui foram:\n",
        "\n",
        "* danceability\n",
        "* energy\n",
        "* loudness\n",
        "* speechiness\n",
        "* acousticness\n",
        "* valence\n",
        "* tempo\n",
        "* duration_ms\n",
        "* key\n",
        "* mode\n",
        "* time_signature\n",
        "* cheerful\n",
        "\n",
        "No Scatter Plot é possivel ver que:\n",
        "1. *danceability* tem proporcionalidade com *cheerful*, *loudness*, *valence* e *energy*\n",
        "2. *time_signature* maioria dos dados tem esse valor igual a 4 (4/4)\n",
        "3. *speechiness* e *acousticness* parecem ser muito proporcionais\n",
        "\n"
      ],
      "metadata": {
        "id": "7XiCVrD2bOqz"
      }
    },
    {
      "cell_type": "markdown",
      "source": [
        "# Normal Padrão"
      ],
      "metadata": {
        "id": "f04q4iDDCFr2"
      }
    },
    {
      "cell_type": "code",
      "source": [
        "# UTILS, TRATANDO DADOS\n",
        "\n",
        "for num in range(23):\n",
        "  if num == 0:\n",
        "    year = 90\n",
        "    nineties = songs[str(year)]\n",
        "    nineties.drop(['title', 'artist/s'], axis=1, inplace=True)\n",
        "  elif num > 0 and num < 11:\n",
        "    if num == 1:\n",
        "      year = 0\n",
        "    twothousand = songs['200'+str(year)]\n",
        "    twothousand.drop(['title', 'artist/s'], axis=1, inplace=True)\n",
        "  else:\n",
        "    twoten = songs['20'+str(year)]\n",
        "    twoten.drop(['title', 'artist/s'], axis=1, inplace=True)\n",
        "  if num != 0:\n",
        "        year += 1\n"
      ],
      "metadata": {
        "id": "OX5HvbX4Rp9g"
      },
      "execution_count": null,
      "outputs": []
    },
    {
      "cell_type": "code",
      "source": [
        "from sklearn.preprocessing import StandardScaler\n",
        "\n",
        "scaler = StandardScaler()\n",
        "ajuste = scaler.fit(songs['2021'])\n",
        "normal = scaler.transform(songs['2021'])\n",
        "\n",
        "normalpadrao = pd.DataFrame(normal)\n",
        "normalpadrao.head()"
      ],
      "metadata": {
        "colab": {
          "base_uri": "https://localhost:8080/",
          "height": 206
        },
        "id": "PZBnZaNpB44Q",
        "outputId": "f3f60b46-73a0-4ed2-945f-512c1874c543"
      },
      "execution_count": null,
      "outputs": [
        {
          "output_type": "execute_result",
          "data": {
            "text/plain": [
              "         0         1         2         3         4         5         6   \\\n",
              "0 -1.697749  0.660414 -2.610648  0.726909 -0.713662  0.782881  0.092186   \n",
              "1 -1.628453  1.079915  0.913393  0.994155  0.823799  0.782881 -0.319830   \n",
              "2 -1.559158  0.386454  0.722905  0.994155  1.341057  0.782881  0.735610   \n",
              "3 -1.489862  0.172423 -0.372405  0.994155 -0.786753  0.782881 -0.888000   \n",
              "4 -1.420566  1.405242  0.206998  0.192417 -0.457078 -1.277333  1.111881   \n",
              "\n",
              "         7         8         9         10   11        12  \n",
              "0 -0.772145  0.619333 -0.616579 -1.602335  0.0 -1.381509  \n",
              "1 -0.062670  1.812986 -0.246998  0.035620  0.0  1.323567  \n",
              "2  0.216471  0.493131  0.743076  1.989362  0.0  0.747435  \n",
              "3 -0.754054  0.361672 -0.067449 -0.474514  0.0 -0.146941  \n",
              "4 -0.124883  0.761309  0.489111 -1.215836  0.0  1.043731  "
            ],
            "text/html": [
              "\n",
              "  <div id=\"df-df0a2ce0-56cd-4e16-bd6d-73db36b63dd2\">\n",
              "    <div class=\"colab-df-container\">\n",
              "      <div>\n",
              "<style scoped>\n",
              "    .dataframe tbody tr th:only-of-type {\n",
              "        vertical-align: middle;\n",
              "    }\n",
              "\n",
              "    .dataframe tbody tr th {\n",
              "        vertical-align: top;\n",
              "    }\n",
              "\n",
              "    .dataframe thead th {\n",
              "        text-align: right;\n",
              "    }\n",
              "</style>\n",
              "<table border=\"1\" class=\"dataframe\">\n",
              "  <thead>\n",
              "    <tr style=\"text-align: right;\">\n",
              "      <th></th>\n",
              "      <th>0</th>\n",
              "      <th>1</th>\n",
              "      <th>2</th>\n",
              "      <th>3</th>\n",
              "      <th>4</th>\n",
              "      <th>5</th>\n",
              "      <th>6</th>\n",
              "      <th>7</th>\n",
              "      <th>8</th>\n",
              "      <th>9</th>\n",
              "      <th>10</th>\n",
              "      <th>11</th>\n",
              "      <th>12</th>\n",
              "    </tr>\n",
              "  </thead>\n",
              "  <tbody>\n",
              "    <tr>\n",
              "      <th>0</th>\n",
              "      <td>-1.697749</td>\n",
              "      <td>0.660414</td>\n",
              "      <td>-2.610648</td>\n",
              "      <td>0.726909</td>\n",
              "      <td>-0.713662</td>\n",
              "      <td>0.782881</td>\n",
              "      <td>0.092186</td>\n",
              "      <td>-0.772145</td>\n",
              "      <td>0.619333</td>\n",
              "      <td>-0.616579</td>\n",
              "      <td>-1.602335</td>\n",
              "      <td>0.0</td>\n",
              "      <td>-1.381509</td>\n",
              "    </tr>\n",
              "    <tr>\n",
              "      <th>1</th>\n",
              "      <td>-1.628453</td>\n",
              "      <td>1.079915</td>\n",
              "      <td>0.913393</td>\n",
              "      <td>0.994155</td>\n",
              "      <td>0.823799</td>\n",
              "      <td>0.782881</td>\n",
              "      <td>-0.319830</td>\n",
              "      <td>-0.062670</td>\n",
              "      <td>1.812986</td>\n",
              "      <td>-0.246998</td>\n",
              "      <td>0.035620</td>\n",
              "      <td>0.0</td>\n",
              "      <td>1.323567</td>\n",
              "    </tr>\n",
              "    <tr>\n",
              "      <th>2</th>\n",
              "      <td>-1.559158</td>\n",
              "      <td>0.386454</td>\n",
              "      <td>0.722905</td>\n",
              "      <td>0.994155</td>\n",
              "      <td>1.341057</td>\n",
              "      <td>0.782881</td>\n",
              "      <td>0.735610</td>\n",
              "      <td>0.216471</td>\n",
              "      <td>0.493131</td>\n",
              "      <td>0.743076</td>\n",
              "      <td>1.989362</td>\n",
              "      <td>0.0</td>\n",
              "      <td>0.747435</td>\n",
              "    </tr>\n",
              "    <tr>\n",
              "      <th>3</th>\n",
              "      <td>-1.489862</td>\n",
              "      <td>0.172423</td>\n",
              "      <td>-0.372405</td>\n",
              "      <td>0.994155</td>\n",
              "      <td>-0.786753</td>\n",
              "      <td>0.782881</td>\n",
              "      <td>-0.888000</td>\n",
              "      <td>-0.754054</td>\n",
              "      <td>0.361672</td>\n",
              "      <td>-0.067449</td>\n",
              "      <td>-0.474514</td>\n",
              "      <td>0.0</td>\n",
              "      <td>-0.146941</td>\n",
              "    </tr>\n",
              "    <tr>\n",
              "      <th>4</th>\n",
              "      <td>-1.420566</td>\n",
              "      <td>1.405242</td>\n",
              "      <td>0.206998</td>\n",
              "      <td>0.192417</td>\n",
              "      <td>-0.457078</td>\n",
              "      <td>-1.277333</td>\n",
              "      <td>1.111881</td>\n",
              "      <td>-0.124883</td>\n",
              "      <td>0.761309</td>\n",
              "      <td>0.489111</td>\n",
              "      <td>-1.215836</td>\n",
              "      <td>0.0</td>\n",
              "      <td>1.043731</td>\n",
              "    </tr>\n",
              "  </tbody>\n",
              "</table>\n",
              "</div>\n",
              "      <button class=\"colab-df-convert\" onclick=\"convertToInteractive('df-df0a2ce0-56cd-4e16-bd6d-73db36b63dd2')\"\n",
              "              title=\"Convert this dataframe to an interactive table.\"\n",
              "              style=\"display:none;\">\n",
              "        \n",
              "  <svg xmlns=\"http://www.w3.org/2000/svg\" height=\"24px\"viewBox=\"0 0 24 24\"\n",
              "       width=\"24px\">\n",
              "    <path d=\"M0 0h24v24H0V0z\" fill=\"none\"/>\n",
              "    <path d=\"M18.56 5.44l.94 2.06.94-2.06 2.06-.94-2.06-.94-.94-2.06-.94 2.06-2.06.94zm-11 1L8.5 8.5l.94-2.06 2.06-.94-2.06-.94L8.5 2.5l-.94 2.06-2.06.94zm10 10l.94 2.06.94-2.06 2.06-.94-2.06-.94-.94-2.06-.94 2.06-2.06.94z\"/><path d=\"M17.41 7.96l-1.37-1.37c-.4-.4-.92-.59-1.43-.59-.52 0-1.04.2-1.43.59L10.3 9.45l-7.72 7.72c-.78.78-.78 2.05 0 2.83L4 21.41c.39.39.9.59 1.41.59.51 0 1.02-.2 1.41-.59l7.78-7.78 2.81-2.81c.8-.78.8-2.07 0-2.86zM5.41 20L4 18.59l7.72-7.72 1.47 1.35L5.41 20z\"/>\n",
              "  </svg>\n",
              "      </button>\n",
              "      \n",
              "  <style>\n",
              "    .colab-df-container {\n",
              "      display:flex;\n",
              "      flex-wrap:wrap;\n",
              "      gap: 12px;\n",
              "    }\n",
              "\n",
              "    .colab-df-convert {\n",
              "      background-color: #E8F0FE;\n",
              "      border: none;\n",
              "      border-radius: 50%;\n",
              "      cursor: pointer;\n",
              "      display: none;\n",
              "      fill: #1967D2;\n",
              "      height: 32px;\n",
              "      padding: 0 0 0 0;\n",
              "      width: 32px;\n",
              "    }\n",
              "\n",
              "    .colab-df-convert:hover {\n",
              "      background-color: #E2EBFA;\n",
              "      box-shadow: 0px 1px 2px rgba(60, 64, 67, 0.3), 0px 1px 3px 1px rgba(60, 64, 67, 0.15);\n",
              "      fill: #174EA6;\n",
              "    }\n",
              "\n",
              "    [theme=dark] .colab-df-convert {\n",
              "      background-color: #3B4455;\n",
              "      fill: #D2E3FC;\n",
              "    }\n",
              "\n",
              "    [theme=dark] .colab-df-convert:hover {\n",
              "      background-color: #434B5C;\n",
              "      box-shadow: 0px 1px 3px 1px rgba(0, 0, 0, 0.15);\n",
              "      filter: drop-shadow(0px 1px 2px rgba(0, 0, 0, 0.3));\n",
              "      fill: #FFFFFF;\n",
              "    }\n",
              "  </style>\n",
              "\n",
              "      <script>\n",
              "        const buttonEl =\n",
              "          document.querySelector('#df-df0a2ce0-56cd-4e16-bd6d-73db36b63dd2 button.colab-df-convert');\n",
              "        buttonEl.style.display =\n",
              "          google.colab.kernel.accessAllowed ? 'block' : 'none';\n",
              "\n",
              "        async function convertToInteractive(key) {\n",
              "          const element = document.querySelector('#df-df0a2ce0-56cd-4e16-bd6d-73db36b63dd2');\n",
              "          const dataTable =\n",
              "            await google.colab.kernel.invokeFunction('convertToInteractive',\n",
              "                                                     [key], {});\n",
              "          if (!dataTable) return;\n",
              "\n",
              "          const docLinkHtml = 'Like what you see? Visit the ' +\n",
              "            '<a target=\"_blank\" href=https://colab.research.google.com/notebooks/data_table.ipynb>data table notebook</a>'\n",
              "            + ' to learn more about interactive tables.';\n",
              "          element.innerHTML = '';\n",
              "          dataTable['output_type'] = 'display_data';\n",
              "          await google.colab.output.renderOutput(dataTable, element);\n",
              "          const docLink = document.createElement('div');\n",
              "          docLink.innerHTML = docLinkHtml;\n",
              "          element.appendChild(docLink);\n",
              "        }\n",
              "      </script>\n",
              "    </div>\n",
              "  </div>\n",
              "  "
            ]
          },
          "metadata": {},
          "execution_count": 60
        }
      ]
    },
    {
      "cell_type": "code",
      "source": [
        "normalpadrao[[5, 7]].plot(kind = 'kde')\n",
        "# 5 == speechiness\n",
        "# 7 == valence"
      ],
      "metadata": {
        "colab": {
          "base_uri": "https://localhost:8080/",
          "height": 285
        },
        "id": "ytYPDnkdZQEq",
        "outputId": "bb8d6284-22d2-4d92-a357-8e55ffa605df"
      },
      "execution_count": null,
      "outputs": [
        {
          "output_type": "execute_result",
          "data": {
            "text/plain": [
              "<matplotlib.axes._subplots.AxesSubplot at 0x7f7ced496cd0>"
            ]
          },
          "metadata": {},
          "execution_count": 70
        },
        {
          "output_type": "display_data",
          "data": {
            "text/plain": [
              "<Figure size 432x288 with 1 Axes>"
            ],
            "image/png": "[encoded data removed]"
          },
          "metadata": {
            "needs_background": "light"
          }
        }
      ]
    },
    {
      "cell_type": "code",
      "source": [
        "# DADOS DE 2016\n",
        "\n",
        "ajuste15 = scaler.fit(songs['2015'])\n",
        "normal15 = scaler.transform(songs['2015'])\n",
        "\n",
        "normalpadrao15 = pd.DataFrame(normal15)\n",
        "normalpadrao15.head()"
      ],
      "metadata": {
        "colab": {
          "base_uri": "https://localhost:8080/",
          "height": 206
        },
        "id": "nMAfcyXeTK1t",
        "outputId": "aec29d23-69bc-43a5-f1d7-fc0cf5c051b5"
      },
      "execution_count": null,
      "outputs": [
        {
          "output_type": "execute_result",
          "data": {
            "text/plain": [
              "         0         1         2         3         4         5         6   \\\n",
              "0 -1.675247  0.617747  0.104228  0.164071 -0.325356 -1.314257 -0.897956   \n",
              "1 -1.559712  0.302090  0.375567 -1.203186  0.484202  0.760886 -0.745088   \n",
              "2 -1.444178 -0.237851  0.291581 -1.476638  0.823023  0.760886 -0.374984   \n",
              "3 -1.328644 -0.619962  0.717970  1.257876  0.576160 -1.314257  2.000113   \n",
              "4 -1.213110 -1.226357  0.020243  0.984425  0.800034  0.760886 -1.083008   \n",
              "\n",
              "         7         8         9         10        11        12  \n",
              "0 -0.674418  0.121387 -0.155017 -1.052342  0.267261  0.414324  \n",
              "1 -0.774945 -0.903656  0.269632  0.630139  0.267261  0.432637  \n",
              "2 -0.835521  0.575463 -0.689352 -0.232335  0.267261  0.075540  \n",
              "3 -0.729643  0.220294  0.998605  1.767362  0.267261  0.167103  \n",
              "4 -0.559653 -1.780337 -1.459265 -0.180182  0.267261 -0.661545  "
            ],
            "text/html": [
              "\n",
              "  <div id=\"df-8c2db464-b10b-40cf-8855-2e6e1251ea62\">\n",
              "    <div class=\"colab-df-container\">\n",
              "      <div>\n",
              "<style scoped>\n",
              "    .dataframe tbody tr th:only-of-type {\n",
              "        vertical-align: middle;\n",
              "    }\n",
              "\n",
              "    .dataframe tbody tr th {\n",
              "        vertical-align: top;\n",
              "    }\n",
              "\n",
              "    .dataframe thead th {\n",
              "        text-align: right;\n",
              "    }\n",
              "</style>\n",
              "<table border=\"1\" class=\"dataframe\">\n",
              "  <thead>\n",
              "    <tr style=\"text-align: right;\">\n",
              "      <th></th>\n",
              "      <th>0</th>\n",
              "      <th>1</th>\n",
              "      <th>2</th>\n",
              "      <th>3</th>\n",
              "      <th>4</th>\n",
              "      <th>5</th>\n",
              "      <th>6</th>\n",
              "      <th>7</th>\n",
              "      <th>8</th>\n",
              "      <th>9</th>\n",
              "      <th>10</th>\n",
              "      <th>11</th>\n",
              "      <th>12</th>\n",
              "    </tr>\n",
              "  </thead>\n",
              "  <tbody>\n",
              "    <tr>\n",
              "      <th>0</th>\n",
              "      <td>-1.675247</td>\n",
              "      <td>0.617747</td>\n",
              "      <td>0.104228</td>\n",
              "      <td>0.164071</td>\n",
              "      <td>-0.325356</td>\n",
              "      <td>-1.314257</td>\n",
              "      <td>-0.897956</td>\n",
              "      <td>-0.674418</td>\n",
              "      <td>0.121387</td>\n",
              "      <td>-0.155017</td>\n",
              "      <td>-1.052342</td>\n",
              "      <td>0.267261</td>\n",
              "      <td>0.414324</td>\n",
              "    </tr>\n",
              "    <tr>\n",
              "      <th>1</th>\n",
              "      <td>-1.559712</td>\n",
              "      <td>0.302090</td>\n",
              "      <td>0.375567</td>\n",
              "      <td>-1.203186</td>\n",
              "      <td>0.484202</td>\n",
              "      <td>0.760886</td>\n",
              "      <td>-0.745088</td>\n",
              "      <td>-0.774945</td>\n",
              "      <td>-0.903656</td>\n",
              "      <td>0.269632</td>\n",
              "      <td>0.630139</td>\n",
              "      <td>0.267261</td>\n",
              "      <td>0.432637</td>\n",
              "    </tr>\n",
              "    <tr>\n",
              "      <th>2</th>\n",
              "      <td>-1.444178</td>\n",
              "      <td>-0.237851</td>\n",
              "      <td>0.291581</td>\n",
              "      <td>-1.476638</td>\n",
              "      <td>0.823023</td>\n",
              "      <td>0.760886</td>\n",
              "      <td>-0.374984</td>\n",
              "      <td>-0.835521</td>\n",
              "      <td>0.575463</td>\n",
              "      <td>-0.689352</td>\n",
              "      <td>-0.232335</td>\n",
              "      <td>0.267261</td>\n",
              "      <td>0.075540</td>\n",
              "    </tr>\n",
              "    <tr>\n",
              "      <th>3</th>\n",
              "      <td>-1.328644</td>\n",
              "      <td>-0.619962</td>\n",
              "      <td>0.717970</td>\n",
              "      <td>1.257876</td>\n",
              "      <td>0.576160</td>\n",
              "      <td>-1.314257</td>\n",
              "      <td>2.000113</td>\n",
              "      <td>-0.729643</td>\n",
              "      <td>0.220294</td>\n",
              "      <td>0.998605</td>\n",
              "      <td>1.767362</td>\n",
              "      <td>0.267261</td>\n",
              "      <td>0.167103</td>\n",
              "    </tr>\n",
              "    <tr>\n",
              "      <th>4</th>\n",
              "      <td>-1.213110</td>\n",
              "      <td>-1.226357</td>\n",
              "      <td>0.020243</td>\n",
              "      <td>0.984425</td>\n",
              "      <td>0.800034</td>\n",
              "      <td>0.760886</td>\n",
              "      <td>-1.083008</td>\n",
              "      <td>-0.559653</td>\n",
              "      <td>-1.780337</td>\n",
              "      <td>-1.459265</td>\n",
              "      <td>-0.180182</td>\n",
              "      <td>0.267261</td>\n",
              "      <td>-0.661545</td>\n",
              "    </tr>\n",
              "  </tbody>\n",
              "</table>\n",
              "</div>\n",
              "      <button class=\"colab-df-convert\" onclick=\"convertToInteractive('df-8c2db464-b10b-40cf-8855-2e6e1251ea62')\"\n",
              "              title=\"Convert this dataframe to an interactive table.\"\n",
              "              style=\"display:none;\">\n",
              "        \n",
              "  <svg xmlns=\"http://www.w3.org/2000/svg\" height=\"24px\"viewBox=\"0 0 24 24\"\n",
              "       width=\"24px\">\n",
              "    <path d=\"M0 0h24v24H0V0z\" fill=\"none\"/>\n",
              "    <path d=\"M18.56 5.44l.94 2.06.94-2.06 2.06-.94-2.06-.94-.94-2.06-.94 2.06-2.06.94zm-11 1L8.5 8.5l.94-2.06 2.06-.94-2.06-.94L8.5 2.5l-.94 2.06-2.06.94zm10 10l.94 2.06.94-2.06 2.06-.94-2.06-.94-.94-2.06-.94 2.06-2.06.94z\"/><path d=\"M17.41 7.96l-1.37-1.37c-.4-.4-.92-.59-1.43-.59-.52 0-1.04.2-1.43.59L10.3 9.45l-7.72 7.72c-.78.78-.78 2.05 0 2.83L4 21.41c.39.39.9.59 1.41.59.51 0 1.02-.2 1.41-.59l7.78-7.78 2.81-2.81c.8-.78.8-2.07 0-2.86zM5.41 20L4 18.59l7.72-7.72 1.47 1.35L5.41 20z\"/>\n",
              "  </svg>\n",
              "      </button>\n",
              "      \n",
              "  <style>\n",
              "    .colab-df-container {\n",
              "      display:flex;\n",
              "      flex-wrap:wrap;\n",
              "      gap: 12px;\n",
              "    }\n",
              "\n",
              "    .colab-df-convert {\n",
              "      background-color: #E8F0FE;\n",
              "      border: none;\n",
              "      border-radius: 50%;\n",
              "      cursor: pointer;\n",
              "      display: none;\n",
              "      fill: #1967D2;\n",
              "      height: 32px;\n",
              "      padding: 0 0 0 0;\n",
              "      width: 32px;\n",
              "    }\n",
              "\n",
              "    .colab-df-convert:hover {\n",
              "      background-color: #E2EBFA;\n",
              "      box-shadow: 0px 1px 2px rgba(60, 64, 67, 0.3), 0px 1px 3px 1px rgba(60, 64, 67, 0.15);\n",
              "      fill: #174EA6;\n",
              "    }\n",
              "\n",
              "    [theme=dark] .colab-df-convert {\n",
              "      background-color: #3B4455;\n",
              "      fill: #D2E3FC;\n",
              "    }\n",
              "\n",
              "    [theme=dark] .colab-df-convert:hover {\n",
              "      background-color: #434B5C;\n",
              "      box-shadow: 0px 1px 3px 1px rgba(0, 0, 0, 0.15);\n",
              "      filter: drop-shadow(0px 1px 2px rgba(0, 0, 0, 0.3));\n",
              "      fill: #FFFFFF;\n",
              "    }\n",
              "  </style>\n",
              "\n",
              "      <script>\n",
              "        const buttonEl =\n",
              "          document.querySelector('#df-8c2db464-b10b-40cf-8855-2e6e1251ea62 button.colab-df-convert');\n",
              "        buttonEl.style.display =\n",
              "          google.colab.kernel.accessAllowed ? 'block' : 'none';\n",
              "\n",
              "        async function convertToInteractive(key) {\n",
              "          const element = document.querySelector('#df-8c2db464-b10b-40cf-8855-2e6e1251ea62');\n",
              "          const dataTable =\n",
              "            await google.colab.kernel.invokeFunction('convertToInteractive',\n",
              "                                                     [key], {});\n",
              "          if (!dataTable) return;\n",
              "\n",
              "          const docLinkHtml = 'Like what you see? Visit the ' +\n",
              "            '<a target=\"_blank\" href=https://colab.research.google.com/notebooks/data_table.ipynb>data table notebook</a>'\n",
              "            + ' to learn more about interactive tables.';\n",
              "          element.innerHTML = '';\n",
              "          dataTable['output_type'] = 'display_data';\n",
              "          await google.colab.output.renderOutput(dataTable, element);\n",
              "          const docLink = document.createElement('div');\n",
              "          docLink.innerHTML = docLinkHtml;\n",
              "          element.appendChild(docLink);\n",
              "        }\n",
              "      </script>\n",
              "    </div>\n",
              "  </div>\n",
              "  "
            ]
          },
          "metadata": {},
          "execution_count": 63
        }
      ]
    },
    {
      "cell_type": "code",
      "source": [
        "normalpadrao15[[5, 7]].plot(kind = 'kde')\n",
        "# 5 == speechiness\n",
        "# 7 == valence"
      ],
      "metadata": {
        "colab": {
          "base_uri": "https://localhost:8080/",
          "height": 282
        },
        "id": "gDTig0EDZaob",
        "outputId": "5972cfb3-9e9f-4f26-bcbf-fb666b8fe73a"
      },
      "execution_count": null,
      "outputs": [
        {
          "output_type": "execute_result",
          "data": {
            "text/plain": [
              "<matplotlib.axes._subplots.AxesSubplot at 0x7f7ced3f1350>"
            ]
          },
          "metadata": {},
          "execution_count": 71
        },
        {
          "output_type": "display_data",
          "data": {
            "text/plain": [
              "<Figure size 432x288 with 1 Axes>"
            ],
            "image/png": "[encoded data removed]"
          },
          "metadata": {
            "needs_background": "light"
          }
        }
      ]
    },
    {
      "cell_type": "markdown",
      "source": [
        "### Análise do Gráfico\n",
        "É muito claro notar que o pico de valência (sentimento de positividade que a musica transmite) está ligado a quando uma música tem uma baixa em seu valor de speechiness como falado nas analises acima!\n",
        "\n"
      ],
      "metadata": {
        "id": "0Y175uSohWJ9"
      }
    },
    {
      "cell_type": "markdown",
      "source": [
        "# Distribuição de Probabilidade"
      ],
      "metadata": {
        "id": "aMsc3gJgBrRb"
      }
    },
    {
      "cell_type": "code",
      "source": [
        "import numpy as np\n",
        "import scipy\n",
        "import scipy.stats\n",
        "import pandas as pd\n",
        "import matplotlib.pyplot as plt\n",
        "\n",
        "size = 2\n",
        "x = np.arange(size)\n",
        "y = songs['2021']['valence'].values\n",
        "h = plt.hist(y, density=True)\n",
        "\n",
        "dist_names = ['expon', 'logistic', 'norm']\n",
        "\n",
        "for dist_name in dist_names:\n",
        "  dist = getattr(scipy.stats, dist_name)\n",
        "  params = dist.fit(y)\n",
        "  arg = params[:-2]\n",
        "  loc = params[-2]\n",
        "  scale = params[-1]\n",
        "\n",
        "  if arg:\n",
        "    pdf_fitted = dist.pdf(x, *arg, loc=loc, scale=scale)\n",
        "  else:\n",
        "    pdf_fitted = dist.pdf(x, loc=loc, scale=scale)\n",
        "  plt.plot(pdf_fitted, label=dist_name)\n",
        "\n",
        "plt.legend(loc= 'upper right')"
      ],
      "metadata": {
        "colab": {
          "base_uri": "https://localhost:8080/",
          "height": 282
        },
        "id": "9KtU-h_YLAQk",
        "outputId": "5ed54b8e-c3ea-48f5-ac7d-68a4609faa55"
      },
      "execution_count": null,
      "outputs": [
        {
          "output_type": "execute_result",
          "data": {
            "text/plain": [
              "<matplotlib.legend.Legend at 0x7f7ced286f10>"
            ]
          },
          "metadata": {},
          "execution_count": 74
        },
        {
          "output_type": "display_data",
          "data": {
            "text/plain": [
              "<Figure size 432x288 with 1 Axes>"
            ],
            "image/png": "[encoded data removed]"
          },
          "metadata": {
            "needs_background": "light"
          }
        }
      ]
    },
    {
      "cell_type": "code",
      "source": [
        "size = 2\n",
        "x = np.arange(size)\n",
        "y = songs['2016']['valence'].values\n",
        "h = plt.hist(y, density=True)\n",
        "\n",
        "dist_names = ['expon', 'logistic', 'norm']\n",
        "\n",
        "for dist_name in dist_names:\n",
        "  dist = getattr(scipy.stats, dist_name)\n",
        "  params = dist.fit(y)\n",
        "  arg = params[:-2]\n",
        "  loc = params[-2]\n",
        "  scale = params[-1]\n",
        "\n",
        "  if arg:\n",
        "    pdf_fitted = dist.pdf(x, *arg, loc=loc, scale=scale)\n",
        "  else:\n",
        "    pdf_fitted = dist.pdf(x, loc=loc, scale=scale)\n",
        "  plt.plot(pdf_fitted, label=dist_name)\n",
        "\n",
        "plt.legend(loc= 'upper right')"
      ],
      "metadata": {
        "colab": {
          "base_uri": "https://localhost:8080/",
          "height": 282
        },
        "id": "w3anTO39VlhR",
        "outputId": "4c66ac8f-7e81-4553-ec66-a43e2b0f2ebf"
      },
      "execution_count": null,
      "outputs": [
        {
          "output_type": "execute_result",
          "data": {
            "text/plain": [
              "<matplotlib.legend.Legend at 0x7f7ced09b250>"
            ]
          },
          "metadata": {},
          "execution_count": 79
        },
        {
          "output_type": "display_data",
          "data": {
            "text/plain": [
              "<Figure size 432x288 with 1 Axes>"
            ],
            "image/png": "[encoded data removed]"
          },
          "metadata": {
            "needs_background": "light"
          }
        }
      ]
    },
    {
      "cell_type": "code",
      "source": [
        "from numpy import mean\n",
        "\n",
        "amostra1 = songs['2013']['valence'].sample(n = 30, replace = True)\n",
        "amostra2 = songs['2016']['valence'].sample(n = 30, replace = True)\n",
        "amostra3 = songs['2020']['valence'].sample(n = 30, replace = True)\n",
        "\n",
        "amostras = [amostra1, amostra2, amostra3]\n",
        "media_amostras = [mean(amostras[index]) for index in range(len(amostras))]\n",
        "plt.hist(amostras)\n",
        "plt.show()"
      ],
      "metadata": {
        "colab": {
          "base_uri": "https://localhost:8080/",
          "height": 265
        },
        "id": "PYIK2aKameqL",
        "outputId": "6d9c45db-d380-4e6e-b9ea-e4fc40508707"
      },
      "execution_count": null,
      "outputs": [
        {
          "output_type": "display_data",
          "data": {
            "text/plain": [
              "<Figure size 432x288 with 1 Axes>"
            ],
            "image/png": "[encoded data removed]"
          },
          "metadata": {
            "needs_background": "light"
          }
        }
      ]
    },
    {
      "cell_type": "markdown",
      "source": [
        "Escrevendo isso avisando que sei que passou da hora viu! Mas continuarei aqui para provar meu ponto de que BTS e KPOP e música podem trazer felicidade para sua vida, já que enquanto escrevo isso estou escutando a música mais feliz possível (Telepathy - BTS, 2020), mas agora vamos a analise da distribuição normal.\n",
        "\n",
        "As populações escolhidas tiveram a mesma quantidades, mas de épocas diferentes como podes ver\n",
        "\n",
        "```\n",
        "azul == 2013\n",
        "laranja == 2016\n",
        "verde == 2020\n",
        "```\n",
        "Como é possivel ver, independente do ano, tendo BTS estreado ou estando entre os Hits ou não, a valência se mostra frequetemente acima da media. O ano de 2020 (ano que lançou Dynamite, boost de serotonina, felicidade em forma de música), tem sua valência em bons niveis, de 0.7 e 0.8 :)\n",
        "\n"
      ],
      "metadata": {
        "id": "mr3caO5uVvl1"
      }
    },
    {
      "cell_type": "markdown",
      "source": [
        "# Conclusão"
      ],
      "metadata": {
        "id": "mJAXWUgNT7_x"
      }
    },
    {
      "cell_type": "markdown",
      "source": [
        "\n",
        "\n",
        "A industria do KPOP, que começou a crescer nos anos 90 com a valoração do mercado e da cultura nacional, é sem dúvida um dos maiores mercados que cresce no ramo do entretenimento hoje em dia. O impacto que BTS teve sobre essa industria e em seu país é algo inegavel, os dados aqui apresentados mostram que\n",
        "não só, o KPOP é um genero musical que atrai por suas músicas animadas e felizes, mas por suas letras criticas e por se ter muito a aprender com a forma com que eles fazer mercado.\n",
        "\n",
        "\n",
        "Claro, que a tabela é preenchida por diversos outros artistas incriveis do KPOP, mas o impacto que quero deixar aqui é tudo que BTS trouxe não so pra mim (que foi a minha motivação pra fazer esse trabalho), mas como toda a mudança que eles trouxeram com suas músicas e iniciativas. Que acredito que não sejam relevantes para sua avaliação aqui hehe, mas pra mim falar do que BTS me causa e que causa no mundo nunca é demais :>\n",
        "\n",
        "De toda forma, escute BTS e coloque Pedrinho pra escutar BTS!\n",
        "\n",
        "Aqui uma música bonita deles pra você:\n",
        "\n",
        "https://www.youtube.com/watch?v=TbjUXK2M5n8\n",
        "\n",
        "E Telepathy, que citei algumas várias vezes aqui :)\n",
        "\n",
        "https://www.youtube.com/watch?v=OC29BN3R8dM\n",
        "\n",
        "Em breve acho que vou te aperrear sobre um TCC com isso aqui.. eu me diverti bastante"
      ],
      "metadata": {
        "id": "UiBhlJSIWK_B"
      }
    }
  ]
}